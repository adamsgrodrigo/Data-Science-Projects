{
 "cells": [
  {
   "cell_type": "markdown",
   "id": "6yDxo9u0d9Na",
   "metadata": {
    "id": "6yDxo9u0d9Na"
   },
   "source": [
    "# Project Business Statistics: E-news Express\n",
    "\n",
    "**Marks: 60**"
   ]
  },
  {
   "cell_type": "markdown",
   "id": "SrLd-ICEmPSD",
   "metadata": {
    "id": "SrLd-ICEmPSD"
   },
   "source": [
    "## Define Problem Statement and Objectives"
   ]
  },
  {
   "cell_type": "markdown",
   "id": "9Vt1PLLqmXNn",
   "metadata": {
    "id": "9Vt1PLLqmXNn"
   },
   "source": [
    "---\n",
    "### *The objective is to perform univariate and bivariate analysis, as well as use statistical tests, to answer the given questions about ENews website traffic, ultimately concluding with a recommendation on the prototype landing page.* \n",
    "---"
   ]
  },
  {
   "cell_type": "code",
   "execution_count": 1,
   "id": "658c5dec",
   "metadata": {
    "id": "658c5dec"
   },
   "outputs": [],
   "source": [
    "import numpy as np\n",
    "import pandas as pd\n",
    "from matplotlib import pyplot as plt\n",
    "import seaborn as sns"
   ]
  },
  {
   "cell_type": "markdown",
   "id": "9d75cfa2",
   "metadata": {
    "id": "9d75cfa2"
   },
   "source": [
    "## 1. Explore the dataset and extract insights using Exploratory Data Analysis. (10 Marks)"
   ]
  },
  {
   "cell_type": "markdown",
   "id": "27201534",
   "metadata": {
    "id": "27201534"
   },
   "source": [
    "### Exploratory Data Analysis - Step by step approach\n",
    "\n",
    "Typical Data exploration activity consists of the following steps:\n",
    "1.\tImporting Data ✓\n",
    "2.\tVariable Identification ✓\n",
    "3.  Variable Transformation/Feature Creation ✓\n",
    "4.  Missing value detection ✓\n",
    "5.\tUnivariate Analysis ✓\n",
    "6.\tBivariate Analysis ✓\n",
    "\n",
    "# +"
   ]
  },
  {
   "cell_type": "markdown",
   "id": "a4e471fd",
   "metadata": {
    "id": "a4e471fd"
   },
   "source": [
    "### Data Overview\n",
    "- View a few rows of the dataframe. ✓\n",
    "- Check the shape and data types of the data frame. Add observations. ✓\n",
    "- Fix the data-types (if needed). ✓\n",
    "- Missing Value Check. ✓ (listed twice)\n",
    "- Summary statistics from the data frame. Add observations. ✓"
   ]
  },
  {
   "cell_type": "markdown",
   "id": "6970dd99",
   "metadata": {
    "id": "6970dd99"
   },
   "source": [
    "---\n",
    "---\n",
    "---\n",
    "\n",
    "# Reading the Data into a DataFrame\n",
    "---\n",
    "---\n",
    "---\n",
    "\n",
    "### I will be using multiple methods to get a feel for the data."
   ]
  },
  {
   "cell_type": "code",
   "execution_count": 2,
   "id": "d3b95640",
   "metadata": {
    "id": "d3b95640"
   },
   "outputs": [
    {
     "data": {
      "text/html": [
       "<div>\n",
       "<style scoped>\n",
       "    .dataframe tbody tr th:only-of-type {\n",
       "        vertical-align: middle;\n",
       "    }\n",
       "\n",
       "    .dataframe tbody tr th {\n",
       "        vertical-align: top;\n",
       "    }\n",
       "\n",
       "    .dataframe thead th {\n",
       "        text-align: right;\n",
       "    }\n",
       "</style>\n",
       "<table border=\"1\" class=\"dataframe\">\n",
       "  <thead>\n",
       "    <tr style=\"text-align: right;\">\n",
       "      <th></th>\n",
       "      <th>count</th>\n",
       "      <th>unique</th>\n",
       "      <th>top</th>\n",
       "      <th>freq</th>\n",
       "      <th>mean</th>\n",
       "      <th>std</th>\n",
       "      <th>min</th>\n",
       "      <th>25%</th>\n",
       "      <th>50%</th>\n",
       "      <th>75%</th>\n",
       "      <th>max</th>\n",
       "    </tr>\n",
       "  </thead>\n",
       "  <tbody>\n",
       "    <tr>\n",
       "      <th>user_id</th>\n",
       "      <td>100.0</td>\n",
       "      <td>NaN</td>\n",
       "      <td>NaN</td>\n",
       "      <td>NaN</td>\n",
       "      <td>546517.0</td>\n",
       "      <td>52.295779</td>\n",
       "      <td>546443.0</td>\n",
       "      <td>546467.75</td>\n",
       "      <td>546492.5</td>\n",
       "      <td>546567.25</td>\n",
       "      <td>546592.0</td>\n",
       "    </tr>\n",
       "    <tr>\n",
       "      <th>group</th>\n",
       "      <td>100</td>\n",
       "      <td>2</td>\n",
       "      <td>control</td>\n",
       "      <td>50</td>\n",
       "      <td>NaN</td>\n",
       "      <td>NaN</td>\n",
       "      <td>NaN</td>\n",
       "      <td>NaN</td>\n",
       "      <td>NaN</td>\n",
       "      <td>NaN</td>\n",
       "      <td>NaN</td>\n",
       "    </tr>\n",
       "    <tr>\n",
       "      <th>landing_page</th>\n",
       "      <td>100</td>\n",
       "      <td>2</td>\n",
       "      <td>old</td>\n",
       "      <td>50</td>\n",
       "      <td>NaN</td>\n",
       "      <td>NaN</td>\n",
       "      <td>NaN</td>\n",
       "      <td>NaN</td>\n",
       "      <td>NaN</td>\n",
       "      <td>NaN</td>\n",
       "      <td>NaN</td>\n",
       "    </tr>\n",
       "    <tr>\n",
       "      <th>time_spent_on_the_page</th>\n",
       "      <td>100.0</td>\n",
       "      <td>NaN</td>\n",
       "      <td>NaN</td>\n",
       "      <td>NaN</td>\n",
       "      <td>5.3778</td>\n",
       "      <td>2.378166</td>\n",
       "      <td>0.19</td>\n",
       "      <td>3.88</td>\n",
       "      <td>5.415</td>\n",
       "      <td>7.0225</td>\n",
       "      <td>10.71</td>\n",
       "    </tr>\n",
       "    <tr>\n",
       "      <th>converted</th>\n",
       "      <td>100</td>\n",
       "      <td>2</td>\n",
       "      <td>yes</td>\n",
       "      <td>54</td>\n",
       "      <td>NaN</td>\n",
       "      <td>NaN</td>\n",
       "      <td>NaN</td>\n",
       "      <td>NaN</td>\n",
       "      <td>NaN</td>\n",
       "      <td>NaN</td>\n",
       "      <td>NaN</td>\n",
       "    </tr>\n",
       "    <tr>\n",
       "      <th>language_preferred</th>\n",
       "      <td>100</td>\n",
       "      <td>3</td>\n",
       "      <td>Spanish</td>\n",
       "      <td>34</td>\n",
       "      <td>NaN</td>\n",
       "      <td>NaN</td>\n",
       "      <td>NaN</td>\n",
       "      <td>NaN</td>\n",
       "      <td>NaN</td>\n",
       "      <td>NaN</td>\n",
       "      <td>NaN</td>\n",
       "    </tr>\n",
       "  </tbody>\n",
       "</table>\n",
       "</div>"
      ],
      "text/plain": [
       "                        count unique      top freq      mean        std  \\\n",
       "user_id                 100.0    NaN      NaN  NaN  546517.0  52.295779   \n",
       "group                     100      2  control   50       NaN        NaN   \n",
       "landing_page              100      2      old   50       NaN        NaN   \n",
       "time_spent_on_the_page  100.0    NaN      NaN  NaN    5.3778   2.378166   \n",
       "converted                 100      2      yes   54       NaN        NaN   \n",
       "language_preferred        100      3  Spanish   34       NaN        NaN   \n",
       "\n",
       "                             min        25%       50%        75%       max  \n",
       "user_id                 546443.0  546467.75  546492.5  546567.25  546592.0  \n",
       "group                        NaN        NaN       NaN        NaN       NaN  \n",
       "landing_page                 NaN        NaN       NaN        NaN       NaN  \n",
       "time_spent_on_the_page      0.19       3.88     5.415     7.0225     10.71  \n",
       "converted                    NaN        NaN       NaN        NaN       NaN  \n",
       "language_preferred           NaN        NaN       NaN        NaN       NaN  "
      ]
     },
     "execution_count": 2,
     "metadata": {},
     "output_type": "execute_result"
    }
   ],
   "source": [
    "AB = pd.read_csv('abtest.csv')\n",
    "AB.describe(include='all').T\n",
    "\n",
    "# i use describe(include='all') to quickly see which variables are qualitative/quantitative, see how many uniques\n",
    "# are in each categorical variable, & quickly check if any std/means stick out to me.\n",
    "\n",
    "# for example, the time_spent minimum being 0.19 is very low, far lower than even Q1."
   ]
  },
  {
   "cell_type": "code",
   "execution_count": 3,
   "id": "b9f4a2ee",
   "metadata": {
    "scrolled": true
   },
   "outputs": [
    {
     "name": "stdout",
     "output_type": "stream",
     "text": [
      "<class 'pandas.core.frame.DataFrame'>\n",
      "RangeIndex: 100 entries, 0 to 99\n",
      "Data columns (total 6 columns):\n",
      " #   Column                  Non-Null Count  Dtype  \n",
      "---  ------                  --------------  -----  \n",
      " 0   user_id                 100 non-null    int64  \n",
      " 1   group                   100 non-null    object \n",
      " 2   landing_page            100 non-null    object \n",
      " 3   time_spent_on_the_page  100 non-null    float64\n",
      " 4   converted               100 non-null    object \n",
      " 5   language_preferred      100 non-null    object \n",
      "dtypes: float64(1), int64(1), object(4)\n",
      "memory usage: 4.8+ KB\n"
     ]
    }
   ],
   "source": [
    "AB.info()\n",
    "\n",
    "#100 rows, 6 columns.\n",
    "#zero null entries.\n",
    "\n",
    "#there are a few objects, i will convert these to categories."
   ]
  },
  {
   "cell_type": "code",
   "execution_count": 4,
   "id": "9555cb7a",
   "metadata": {},
   "outputs": [
    {
     "name": "stdout",
     "output_type": "stream",
     "text": [
      "<class 'pandas.core.frame.DataFrame'>\n",
      "RangeIndex: 100 entries, 0 to 99\n",
      "Data columns (total 6 columns):\n",
      " #   Column                  Non-Null Count  Dtype   \n",
      "---  ------                  --------------  -----   \n",
      " 0   user_id                 100 non-null    int64   \n",
      " 1   group                   100 non-null    category\n",
      " 2   landing_page            100 non-null    category\n",
      " 3   time_spent_on_the_page  100 non-null    float64 \n",
      " 4   converted               100 non-null    category\n",
      " 5   language_preferred      100 non-null    category\n",
      "dtypes: category(4), float64(1), int64(1)\n",
      "memory usage: 2.6 KB\n"
     ]
    }
   ],
   "source": [
    "for entry in AB:\n",
    "    if AB[entry].dtype=='O':\n",
    "        AB[entry]=AB[entry].astype('category')\n",
    "AB.info()"
   ]
  },
  {
   "cell_type": "code",
   "execution_count": 5,
   "id": "b17d0544",
   "metadata": {},
   "outputs": [
    {
     "data": {
      "text/html": [
       "<div>\n",
       "<style scoped>\n",
       "    .dataframe tbody tr th:only-of-type {\n",
       "        vertical-align: middle;\n",
       "    }\n",
       "\n",
       "    .dataframe tbody tr th {\n",
       "        vertical-align: top;\n",
       "    }\n",
       "\n",
       "    .dataframe thead th {\n",
       "        text-align: right;\n",
       "    }\n",
       "</style>\n",
       "<table border=\"1\" class=\"dataframe\">\n",
       "  <thead>\n",
       "    <tr style=\"text-align: right;\">\n",
       "      <th></th>\n",
       "      <th>user_id</th>\n",
       "      <th>group</th>\n",
       "      <th>landing_page</th>\n",
       "      <th>time_spent_on_the_page</th>\n",
       "      <th>converted</th>\n",
       "      <th>language_preferred</th>\n",
       "    </tr>\n",
       "  </thead>\n",
       "  <tbody>\n",
       "    <tr>\n",
       "      <th>10</th>\n",
       "      <td>546588</td>\n",
       "      <td>control</td>\n",
       "      <td>old</td>\n",
       "      <td>6.21</td>\n",
       "      <td>yes</td>\n",
       "      <td>Spanish</td>\n",
       "    </tr>\n",
       "    <tr>\n",
       "      <th>43</th>\n",
       "      <td>546453</td>\n",
       "      <td>treatment</td>\n",
       "      <td>new</td>\n",
       "      <td>7.16</td>\n",
       "      <td>yes</td>\n",
       "      <td>English</td>\n",
       "    </tr>\n",
       "    <tr>\n",
       "      <th>66</th>\n",
       "      <td>546545</td>\n",
       "      <td>control</td>\n",
       "      <td>old</td>\n",
       "      <td>6.60</td>\n",
       "      <td>yes</td>\n",
       "      <td>English</td>\n",
       "    </tr>\n",
       "    <tr>\n",
       "      <th>50</th>\n",
       "      <td>546554</td>\n",
       "      <td>control</td>\n",
       "      <td>old</td>\n",
       "      <td>0.22</td>\n",
       "      <td>no</td>\n",
       "      <td>English</td>\n",
       "    </tr>\n",
       "    <tr>\n",
       "      <th>44</th>\n",
       "      <td>546488</td>\n",
       "      <td>treatment</td>\n",
       "      <td>new</td>\n",
       "      <td>3.91</td>\n",
       "      <td>no</td>\n",
       "      <td>English</td>\n",
       "    </tr>\n",
       "    <tr>\n",
       "      <th>3</th>\n",
       "      <td>546567</td>\n",
       "      <td>control</td>\n",
       "      <td>old</td>\n",
       "      <td>3.02</td>\n",
       "      <td>no</td>\n",
       "      <td>French</td>\n",
       "    </tr>\n",
       "    <tr>\n",
       "      <th>36</th>\n",
       "      <td>546551</td>\n",
       "      <td>control</td>\n",
       "      <td>old</td>\n",
       "      <td>3.13</td>\n",
       "      <td>no</td>\n",
       "      <td>English</td>\n",
       "    </tr>\n",
       "    <tr>\n",
       "      <th>22</th>\n",
       "      <td>546450</td>\n",
       "      <td>treatment</td>\n",
       "      <td>new</td>\n",
       "      <td>3.65</td>\n",
       "      <td>no</td>\n",
       "      <td>English</td>\n",
       "    </tr>\n",
       "    <tr>\n",
       "      <th>84</th>\n",
       "      <td>546571</td>\n",
       "      <td>control</td>\n",
       "      <td>old</td>\n",
       "      <td>4.30</td>\n",
       "      <td>no</td>\n",
       "      <td>French</td>\n",
       "    </tr>\n",
       "    <tr>\n",
       "      <th>81</th>\n",
       "      <td>546449</td>\n",
       "      <td>treatment</td>\n",
       "      <td>new</td>\n",
       "      <td>5.26</td>\n",
       "      <td>yes</td>\n",
       "      <td>French</td>\n",
       "    </tr>\n",
       "    <tr>\n",
       "      <th>58</th>\n",
       "      <td>546562</td>\n",
       "      <td>control</td>\n",
       "      <td>old</td>\n",
       "      <td>7.40</td>\n",
       "      <td>yes</td>\n",
       "      <td>French</td>\n",
       "    </tr>\n",
       "    <tr>\n",
       "      <th>76</th>\n",
       "      <td>546573</td>\n",
       "      <td>control</td>\n",
       "      <td>old</td>\n",
       "      <td>1.44</td>\n",
       "      <td>no</td>\n",
       "      <td>French</td>\n",
       "    </tr>\n",
       "    <tr>\n",
       "      <th>46</th>\n",
       "      <td>546460</td>\n",
       "      <td>treatment</td>\n",
       "      <td>new</td>\n",
       "      <td>5.37</td>\n",
       "      <td>yes</td>\n",
       "      <td>French</td>\n",
       "    </tr>\n",
       "    <tr>\n",
       "      <th>11</th>\n",
       "      <td>546546</td>\n",
       "      <td>control</td>\n",
       "      <td>old</td>\n",
       "      <td>2.58</td>\n",
       "      <td>yes</td>\n",
       "      <td>English</td>\n",
       "    </tr>\n",
       "    <tr>\n",
       "      <th>70</th>\n",
       "      <td>546568</td>\n",
       "      <td>control</td>\n",
       "      <td>old</td>\n",
       "      <td>0.40</td>\n",
       "      <td>no</td>\n",
       "      <td>French</td>\n",
       "    </tr>\n",
       "  </tbody>\n",
       "</table>\n",
       "</div>"
      ],
      "text/plain": [
       "    user_id      group landing_page  time_spent_on_the_page converted  \\\n",
       "10   546588    control          old                    6.21       yes   \n",
       "43   546453  treatment          new                    7.16       yes   \n",
       "66   546545    control          old                    6.60       yes   \n",
       "50   546554    control          old                    0.22        no   \n",
       "44   546488  treatment          new                    3.91        no   \n",
       "3    546567    control          old                    3.02        no   \n",
       "36   546551    control          old                    3.13        no   \n",
       "22   546450  treatment          new                    3.65        no   \n",
       "84   546571    control          old                    4.30        no   \n",
       "81   546449  treatment          new                    5.26       yes   \n",
       "58   546562    control          old                    7.40       yes   \n",
       "76   546573    control          old                    1.44        no   \n",
       "46   546460  treatment          new                    5.37       yes   \n",
       "11   546546    control          old                    2.58       yes   \n",
       "70   546568    control          old                    0.40        no   \n",
       "\n",
       "   language_preferred  \n",
       "10            Spanish  \n",
       "43            English  \n",
       "66            English  \n",
       "50            English  \n",
       "44            English  \n",
       "3              French  \n",
       "36            English  \n",
       "22            English  \n",
       "84             French  \n",
       "81             French  \n",
       "58             French  \n",
       "76             French  \n",
       "46             French  \n",
       "11            English  \n",
       "70             French  "
      ]
     },
     "execution_count": 5,
     "metadata": {},
     "output_type": "execute_result"
    }
   ],
   "source": [
    "AB.sample(15)\n",
    "\n",
    "#quick sample. \n",
    "\n",
    "#this can be inferred from the definitions of 'group' and 'landing page' given in the instructions, but it seems as if they\n",
    "#essentially are the same column. treatment = new, control = old.\n",
    "\n",
    "#to make absolutely sure this is the case, I do a quick groupby below."
   ]
  },
  {
   "cell_type": "code",
   "execution_count": 6,
   "id": "499ce41d",
   "metadata": {},
   "outputs": [
    {
     "data": {
      "text/plain": [
       "group         \n",
       "control    old    50\n",
       "           new     0\n",
       "treatment  new    50\n",
       "           old     0\n",
       "Name: landing_page, dtype: int64"
      ]
     },
     "execution_count": 6,
     "metadata": {},
     "output_type": "execute_result"
    }
   ],
   "source": [
    "AB.groupby(['group'])['landing_page'].value_counts()\n",
    "\n",
    "# There are exactly 50 cases of 'old page' in control, and 0 cases of 'new page' in control.\n",
    "\n",
    "# opposite goes for treatment.\n",
    "\n",
    "# Therefore, they are interchangeable columns. I will be dropping landing page and editing the names of the group/cats."
   ]
  },
  {
   "cell_type": "code",
   "execution_count": 7,
   "id": "e1ad11d4",
   "metadata": {
    "id": "e1ad11d4"
   },
   "outputs": [
    {
     "data": {
      "text/html": [
       "<div>\n",
       "<style scoped>\n",
       "    .dataframe tbody tr th:only-of-type {\n",
       "        vertical-align: middle;\n",
       "    }\n",
       "\n",
       "    .dataframe tbody tr th {\n",
       "        vertical-align: top;\n",
       "    }\n",
       "\n",
       "    .dataframe thead th {\n",
       "        text-align: right;\n",
       "    }\n",
       "</style>\n",
       "<table border=\"1\" class=\"dataframe\">\n",
       "  <thead>\n",
       "    <tr style=\"text-align: right;\">\n",
       "      <th></th>\n",
       "      <th>user_id</th>\n",
       "      <th>group_page</th>\n",
       "      <th>time_spent_on_the_page</th>\n",
       "      <th>converted</th>\n",
       "      <th>language_preferred</th>\n",
       "    </tr>\n",
       "  </thead>\n",
       "  <tbody>\n",
       "    <tr>\n",
       "      <th>0</th>\n",
       "      <td>546592</td>\n",
       "      <td>control_old</td>\n",
       "      <td>3.48</td>\n",
       "      <td>no</td>\n",
       "      <td>Spanish</td>\n",
       "    </tr>\n",
       "    <tr>\n",
       "      <th>1</th>\n",
       "      <td>546468</td>\n",
       "      <td>treatment_new</td>\n",
       "      <td>7.13</td>\n",
       "      <td>yes</td>\n",
       "      <td>English</td>\n",
       "    </tr>\n",
       "    <tr>\n",
       "      <th>2</th>\n",
       "      <td>546462</td>\n",
       "      <td>treatment_new</td>\n",
       "      <td>4.40</td>\n",
       "      <td>no</td>\n",
       "      <td>Spanish</td>\n",
       "    </tr>\n",
       "    <tr>\n",
       "      <th>3</th>\n",
       "      <td>546567</td>\n",
       "      <td>control_old</td>\n",
       "      <td>3.02</td>\n",
       "      <td>no</td>\n",
       "      <td>French</td>\n",
       "    </tr>\n",
       "    <tr>\n",
       "      <th>4</th>\n",
       "      <td>546459</td>\n",
       "      <td>treatment_new</td>\n",
       "      <td>4.75</td>\n",
       "      <td>yes</td>\n",
       "      <td>Spanish</td>\n",
       "    </tr>\n",
       "    <tr>\n",
       "      <th>...</th>\n",
       "      <td>...</td>\n",
       "      <td>...</td>\n",
       "      <td>...</td>\n",
       "      <td>...</td>\n",
       "      <td>...</td>\n",
       "    </tr>\n",
       "    <tr>\n",
       "      <th>95</th>\n",
       "      <td>546446</td>\n",
       "      <td>treatment_new</td>\n",
       "      <td>5.15</td>\n",
       "      <td>no</td>\n",
       "      <td>Spanish</td>\n",
       "    </tr>\n",
       "    <tr>\n",
       "      <th>96</th>\n",
       "      <td>546544</td>\n",
       "      <td>control_old</td>\n",
       "      <td>6.52</td>\n",
       "      <td>yes</td>\n",
       "      <td>English</td>\n",
       "    </tr>\n",
       "    <tr>\n",
       "      <th>97</th>\n",
       "      <td>546472</td>\n",
       "      <td>treatment_new</td>\n",
       "      <td>7.07</td>\n",
       "      <td>yes</td>\n",
       "      <td>Spanish</td>\n",
       "    </tr>\n",
       "    <tr>\n",
       "      <th>98</th>\n",
       "      <td>546481</td>\n",
       "      <td>treatment_new</td>\n",
       "      <td>6.20</td>\n",
       "      <td>yes</td>\n",
       "      <td>Spanish</td>\n",
       "    </tr>\n",
       "    <tr>\n",
       "      <th>99</th>\n",
       "      <td>546483</td>\n",
       "      <td>treatment_new</td>\n",
       "      <td>5.86</td>\n",
       "      <td>yes</td>\n",
       "      <td>English</td>\n",
       "    </tr>\n",
       "  </tbody>\n",
       "</table>\n",
       "<p>100 rows × 5 columns</p>\n",
       "</div>"
      ],
      "text/plain": [
       "    user_id     group_page  time_spent_on_the_page converted  \\\n",
       "0    546592    control_old                    3.48        no   \n",
       "1    546468  treatment_new                    7.13       yes   \n",
       "2    546462  treatment_new                    4.40        no   \n",
       "3    546567    control_old                    3.02        no   \n",
       "4    546459  treatment_new                    4.75       yes   \n",
       "..      ...            ...                     ...       ...   \n",
       "95   546446  treatment_new                    5.15        no   \n",
       "96   546544    control_old                    6.52       yes   \n",
       "97   546472  treatment_new                    7.07       yes   \n",
       "98   546481  treatment_new                    6.20       yes   \n",
       "99   546483  treatment_new                    5.86       yes   \n",
       "\n",
       "   language_preferred  \n",
       "0             Spanish  \n",
       "1             English  \n",
       "2             Spanish  \n",
       "3              French  \n",
       "4             Spanish  \n",
       "..                ...  \n",
       "95            Spanish  \n",
       "96            English  \n",
       "97            Spanish  \n",
       "98            Spanish  \n",
       "99            English  \n",
       "\n",
       "[100 rows x 5 columns]"
      ]
     },
     "execution_count": 7,
     "metadata": {},
     "output_type": "execute_result"
    }
   ],
   "source": [
    "AB=AB.rename(columns = {\"group\":\"group_page\"})\n",
    "AB['group_page']=AB['group_page'].cat.rename_categories({'control':'control_old','treatment':'treatment_new'})\n",
    "\n",
    "AB=AB.drop(['landing_page'],axis=1)\n",
    "\n",
    "AB\n",
    "\n",
    "#group is now group_page, and has both the control/treatment group listed, as well as the old/new page."
   ]
  },
  {
   "cell_type": "markdown",
   "id": "68f3b2c9",
   "metadata": {
    "id": "68f3b2c9"
   },
   "source": [
    "---\n",
    "---\n",
    "---\n",
    "\n",
    "# Univariate Analysis\n",
    "---\n",
    "---\n",
    "---\n"
   ]
  },
  {
   "cell_type": "code",
   "execution_count": 8,
   "id": "1932d0f3",
   "metadata": {
    "id": "1932d0f3"
   },
   "outputs": [],
   "source": [
    "def histobox(data, feature, figsize=(15, 5), kde=False, bins=10):\n",
    "    \n",
    "    HBP, (box,hist) = plt.subplots(\n",
    "        nrows=2,\n",
    "        sharex=True,\n",
    "        gridspec_kw={\"height_ratios\": (0.25, 0.75)},\n",
    "        figsize=figsize\n",
    "    )\n",
    "    sns.boxplot(\n",
    "        data=data, x=feature, ax=box, showmeans=True, color=\"orange\"\n",
    "    )\n",
    "    sns.histplot(\n",
    "        data=data, x=feature, kde=kde, ax=hist, bins=bins, palette=\"mako\" #i like mako\n",
    "    )\n",
    "    hist.axvline(\n",
    "        data[feature].mean(), color=\"green\", linestyle=\"--\"\n",
    "    )\n",
    "    hist.axvline(\n",
    "        data[feature].median(), color=\"black\", linestyle=\"-\"\n",
    "    )"
   ]
  },
  {
   "cell_type": "code",
   "execution_count": 9,
   "id": "2fce6350",
   "metadata": {
    "id": "2fce6350"
   },
   "outputs": [],
   "source": [
    "def labeled_barplot(data, feature, perc=False, n=None):\n",
    "    \"\"\"\n",
    "    Barplot with percentage at the top\n",
    "\n",
    "    data: dataframe\n",
    "    feature: dataframe column\n",
    "    perc: whether to display percentages instead of count (default is False)\n",
    "    n: displays the top n category levels (default is None, i.e., display all levels)\n",
    "    \"\"\"\n",
    "\n",
    "    total = len(data[feature])  # length of the column\n",
    "    count = data[feature].nunique()\n",
    "    if n is None:\n",
    "        plt.figure(figsize=(count + 1, 5))\n",
    "    else:\n",
    "        plt.figure(figsize=(n + 1, 5))\n",
    "\n",
    "    plt.xticks(rotation=90, fontsize=15)\n",
    "    ax = sns.countplot(data=data, x=feature, palette=\"Paired\", order=data[feature].value_counts().index[:n].sort_values())\n",
    "\n",
    "    for p in ax.patches:\n",
    "        if perc == True:\n",
    "            label = \"{:.1f}%\".format(100 * p.get_height() / total)  # percentage of each class of the category\n",
    "        else:\n",
    "            label = p.get_height()  # count of each level of the category\n",
    "\n",
    "        x = p.get_x() + p.get_width() / 2  # width of the plot\n",
    "        y = p.get_height()      # height of the plot\n",
    "\n",
    "        ax.annotate(label, (x, y), ha=\"center\", va=\"center\", size=12, xytext=(0, 5), textcoords=\"offset points\")  # annotate the percentage\n",
    "\n",
    "    plt.show()  # show the plot"
   ]
  },
  {
   "cell_type": "markdown",
   "id": "429b2cfc",
   "metadata": {
    "id": "e6f99481"
   },
   "source": [
    "---\n",
    "# User_ID Univariate Analysis"
   ]
  },
  {
   "cell_type": "code",
   "execution_count": 10,
   "id": "e83a45b4",
   "metadata": {},
   "outputs": [
    {
     "data": {
      "image/png": "[encoded data removed]",
      "text/plain": [
       "<Figure size 1080x360 with 2 Axes>"
      ]
     },
     "metadata": {
      "needs_background": "light"
     },
     "output_type": "display_data"
    }
   ],
   "source": [
    "histobox(AB,'user_id')"
   ]
  },
  {
   "cell_type": "markdown",
   "id": "19f9f69c",
   "metadata": {},
   "source": [
    "### Like with project 1, there isn't much we can actually analyze with the user id. However, unlike project 1, I find it interesting there appears to be a gap in the user IDs. "
   ]
  },
  {
   "cell_type": "code",
   "execution_count": 11,
   "id": "7f6af981",
   "metadata": {},
   "outputs": [
    {
     "name": "stdout",
     "output_type": "stream",
     "text": [
      "[546443, 546444, 546445, 546446, 546447, 546448, 546449, 546450, 546451, 546452, 546453, 546454, 546455, 546456, 546457, 546458, 546459, 546460, 546461, 546462, 546463, 546464, 546465, 546466, 546467, 546468, 546469, 546470, 546471, 546472, 546473, 546474, 546475, 546476, 546477, 546478, 546479, 546480, 546481, 546482, 546483, 546484, 546485, 546486, 546487, 546488, 546489, 546490, 546491, 546492, 546493, 546544, 546545, 546546, 546547, 546548, 546549, 546550, 546551, 546552, 546553, 546554, 546555, 546556, 546557, 546558, 546559, 546560, 546561, 546562, 546563, 546564, 546565, 546566, 546567, 546568, 546569, 546570, 546571, 546572, 546573, 546574, 546575, 546576, 546577, 546578, 546579, 546580, 546581, 546582, 546583, 546584, 546585, 546586, 546587, 546588, 546589, 546590, 546591, 546592]\n"
     ]
    }
   ],
   "source": [
    "print(list(AB['user_id'].sort_values()))"
   ]
  },
  {
   "cell_type": "markdown",
   "id": "73da3065",
   "metadata": {},
   "source": [
    "### Printing the column as a list, I can get a look at where the gap is. It appears between ID 546493 and 546544.\n",
    "    Why this is, I'm not sure. I don't believe this indicates a failure\n",
    "    to randomly sample, but it is interesting that about 50 user IDs\n",
    "    are simply missing from our data."
   ]
  },
  {
   "cell_type": "markdown",
   "id": "415904b3",
   "metadata": {},
   "source": [
    "---\n",
    "# Group_Page univariate analysis"
   ]
  },
  {
   "cell_type": "code",
   "execution_count": 12,
   "id": "248efedf",
   "metadata": {},
   "outputs": [
    {
     "data": {
      "image/png": "[encoded data removed]",
      "text/plain": [
       "<Figure size 216x360 with 1 Axes>"
      ]
     },
     "metadata": {
      "needs_background": "light"
     },
     "output_type": "display_data"
    }
   ],
   "source": [
    "labeled_barplot(AB,'group_page',perc=True)"
   ]
  },
  {
   "cell_type": "markdown",
   "id": "36bd0e44",
   "metadata": {},
   "source": [
    "### This section was partly done in the intro, where I determined that control=old, and treatment=new.\n",
    "### Exactly half are part of the control/old group and half are part of the treatment/new group. This is according to the definition of an a/b test.\n",
    "    There really isn't anything more to analyze here."
   ]
  },
  {
   "cell_type": "markdown",
   "id": "42310163",
   "metadata": {},
   "source": [
    "---\n",
    "# Time_spent Univariate Analysis"
   ]
  },
  {
   "cell_type": "code",
   "execution_count": 13,
   "id": "77e1724a",
   "metadata": {},
   "outputs": [
    {
     "data": {
      "image/png": "[encoded data removed]",
      "text/plain": [
       "<Figure size 1080x360 with 2 Axes>"
      ]
     },
     "metadata": {
      "needs_background": "light"
     },
     "output_type": "display_data"
    }
   ],
   "source": [
    "histobox(AB,'time_spent_on_the_page',bins=5)"
   ]
  },
  {
   "cell_type": "markdown",
   "id": "b18e97dc",
   "metadata": {},
   "source": [
    "### As we saw earlier in the .describe(), the mean of time_spent hovers at around 5.3, and it seems to be somewhat normally distributed.\n",
    "\n",
    "### We will be heavily relying on this numerical for Bivariate analysis, as it is the only numerical with truly substantial values."
   ]
  },
  {
   "cell_type": "code",
   "execution_count": 14,
   "id": "313400e8",
   "metadata": {},
   "outputs": [
    {
     "data": {
      "image/png": "[encoded data removed]",
      "text/plain": [
       "<Figure size 360x360 with 1 Axes>"
      ]
     },
     "metadata": {
      "needs_background": "light"
     },
     "output_type": "display_data"
    }
   ],
   "source": [
    "sns.displot(data=AB,x='time_spent_on_the_page',kind='kde');\n",
    "#A better look at the distribution of time_spent."
   ]
  },
  {
   "cell_type": "markdown",
   "id": "9a22b971",
   "metadata": {},
   "source": [
    "---\n",
    "# Converted Univariate Analysis"
   ]
  },
  {
   "cell_type": "code",
   "execution_count": 15,
   "id": "444e5abc",
   "metadata": {},
   "outputs": [
    {
     "data": {
      "image/png": "[encoded data removed]",
      "text/plain": [
       "<Figure size 216x360 with 1 Axes>"
      ]
     },
     "metadata": {
      "needs_background": "light"
     },
     "output_type": "display_data"
    }
   ],
   "source": [
    "labeled_barplot(AB,'converted',perc=True)"
   ]
  },
  {
   "cell_type": "markdown",
   "id": "fed1cab4",
   "metadata": {},
   "source": [
    "### The most interesting categorical. This will definitely pair well with others in the bivariate analysis.\n",
    "    It also seems that a slight majority end up converting\n",
    "    to the new page, regardless of being in control/treatment group."
   ]
  },
  {
   "cell_type": "markdown",
   "id": "038be720",
   "metadata": {},
   "source": [
    "---\n",
    "# Language Univariate Analysis"
   ]
  },
  {
   "cell_type": "code",
   "execution_count": 16,
   "id": "f55288ba",
   "metadata": {},
   "outputs": [
    {
     "data": {
      "image/png": "[encoded data removed]",
      "text/plain": [
       "<Figure size 288x360 with 1 Axes>"
      ]
     },
     "metadata": {
      "needs_background": "light"
     },
     "output_type": "display_data"
    }
   ],
   "source": [
    "labeled_barplot(AB,'language_preferred')"
   ]
  },
  {
   "cell_type": "markdown",
   "id": "fdbd52fc",
   "metadata": {},
   "source": [
    "### The languages are almost equal, but English has 2 fewer users. There isn't much to analyze here, but it will be useful to compare this category to other variables."
   ]
  },
  {
   "cell_type": "markdown",
   "id": "fad2de2f",
   "metadata": {
    "id": "fad2de2f"
   },
   "source": [
    "---\n",
    "---\n",
    "---\n",
    "\n",
    "# Bivariate Analysis\n",
    "---\n",
    "---\n",
    "---\n",
    "### I will be ignoring user_id in this section, as it is essentially random. Any patterns seen comparing id to other variables will not help analyze the actual data.\n",
    "\n",
    "### I will also not be doing a heat map, since there is only one substantial numerical variable."
   ]
  },
  {
   "cell_type": "code",
   "execution_count": 17,
   "id": "a534bf7a",
   "metadata": {},
   "outputs": [
    {
     "data": {
      "text/html": [
       "<div>\n",
       "<style scoped>\n",
       "    .dataframe tbody tr th:only-of-type {\n",
       "        vertical-align: middle;\n",
       "    }\n",
       "\n",
       "    .dataframe tbody tr th {\n",
       "        vertical-align: top;\n",
       "    }\n",
       "\n",
       "    .dataframe thead th {\n",
       "        text-align: right;\n",
       "    }\n",
       "</style>\n",
       "<table border=\"1\" class=\"dataframe\">\n",
       "  <thead>\n",
       "    <tr style=\"text-align: right;\">\n",
       "      <th></th>\n",
       "      <th>group_page</th>\n",
       "      <th>time_spent_on_the_page</th>\n",
       "      <th>converted</th>\n",
       "      <th>language_preferred</th>\n",
       "    </tr>\n",
       "  </thead>\n",
       "  <tbody>\n",
       "    <tr>\n",
       "      <th>0</th>\n",
       "      <td>control_old</td>\n",
       "      <td>3.48</td>\n",
       "      <td>no</td>\n",
       "      <td>Spanish</td>\n",
       "    </tr>\n",
       "    <tr>\n",
       "      <th>1</th>\n",
       "      <td>treatment_new</td>\n",
       "      <td>7.13</td>\n",
       "      <td>yes</td>\n",
       "      <td>English</td>\n",
       "    </tr>\n",
       "    <tr>\n",
       "      <th>2</th>\n",
       "      <td>treatment_new</td>\n",
       "      <td>4.40</td>\n",
       "      <td>no</td>\n",
       "      <td>Spanish</td>\n",
       "    </tr>\n",
       "    <tr>\n",
       "      <th>3</th>\n",
       "      <td>control_old</td>\n",
       "      <td>3.02</td>\n",
       "      <td>no</td>\n",
       "      <td>French</td>\n",
       "    </tr>\n",
       "    <tr>\n",
       "      <th>4</th>\n",
       "      <td>treatment_new</td>\n",
       "      <td>4.75</td>\n",
       "      <td>yes</td>\n",
       "      <td>Spanish</td>\n",
       "    </tr>\n",
       "    <tr>\n",
       "      <th>...</th>\n",
       "      <td>...</td>\n",
       "      <td>...</td>\n",
       "      <td>...</td>\n",
       "      <td>...</td>\n",
       "    </tr>\n",
       "    <tr>\n",
       "      <th>95</th>\n",
       "      <td>treatment_new</td>\n",
       "      <td>5.15</td>\n",
       "      <td>no</td>\n",
       "      <td>Spanish</td>\n",
       "    </tr>\n",
       "    <tr>\n",
       "      <th>96</th>\n",
       "      <td>control_old</td>\n",
       "      <td>6.52</td>\n",
       "      <td>yes</td>\n",
       "      <td>English</td>\n",
       "    </tr>\n",
       "    <tr>\n",
       "      <th>97</th>\n",
       "      <td>treatment_new</td>\n",
       "      <td>7.07</td>\n",
       "      <td>yes</td>\n",
       "      <td>Spanish</td>\n",
       "    </tr>\n",
       "    <tr>\n",
       "      <th>98</th>\n",
       "      <td>treatment_new</td>\n",
       "      <td>6.20</td>\n",
       "      <td>yes</td>\n",
       "      <td>Spanish</td>\n",
       "    </tr>\n",
       "    <tr>\n",
       "      <th>99</th>\n",
       "      <td>treatment_new</td>\n",
       "      <td>5.86</td>\n",
       "      <td>yes</td>\n",
       "      <td>English</td>\n",
       "    </tr>\n",
       "  </tbody>\n",
       "</table>\n",
       "<p>100 rows × 4 columns</p>\n",
       "</div>"
      ],
      "text/plain": [
       "       group_page  time_spent_on_the_page converted language_preferred\n",
       "0     control_old                    3.48        no            Spanish\n",
       "1   treatment_new                    7.13       yes            English\n",
       "2   treatment_new                    4.40        no            Spanish\n",
       "3     control_old                    3.02        no             French\n",
       "4   treatment_new                    4.75       yes            Spanish\n",
       "..            ...                     ...       ...                ...\n",
       "95  treatment_new                    5.15        no            Spanish\n",
       "96    control_old                    6.52       yes            English\n",
       "97  treatment_new                    7.07       yes            Spanish\n",
       "98  treatment_new                    6.20       yes            Spanish\n",
       "99  treatment_new                    5.86       yes            English\n",
       "\n",
       "[100 rows x 4 columns]"
      ]
     },
     "execution_count": 17,
     "metadata": {},
     "output_type": "execute_result"
    }
   ],
   "source": [
    "AB_Biv=AB.drop('user_id',axis=1)\n",
    "AB_Biv"
   ]
  },
  {
   "cell_type": "markdown",
   "id": "9984007d",
   "metadata": {
    "id": "58e9a1d0"
   },
   "source": [
    "---\n",
    "\n",
    "# Group_page / Converted Bivariate Analysis\n",
    "### I am starting here because to me, this is the most important analysis to the people testing this new layout.\n",
    "### Major question: *Is the new layout attractive to people coming to the website?*"
   ]
  },
  {
   "cell_type": "code",
   "execution_count": 18,
   "id": "f84aa810",
   "metadata": {},
   "outputs": [
    {
     "data": {
      "image/png": "[encoded data removed]",
      "text/plain": [
       "<Figure size 720x360 with 1 Axes>"
      ]
     },
     "metadata": {
      "needs_background": "light"
     },
     "output_type": "display_data"
    }
   ],
   "source": [
    "sns.countplot(data=AB_Biv,x='group_page',hue='converted',palette='mako')\n",
    "plt.gcf().set_size_inches(10,5)"
   ]
  },
  {
   "cell_type": "code",
   "execution_count": 19,
   "id": "9037db69",
   "metadata": {},
   "outputs": [
    {
     "data": {
      "text/html": [
       "<div>\n",
       "<style scoped>\n",
       "    .dataframe tbody tr th:only-of-type {\n",
       "        vertical-align: middle;\n",
       "    }\n",
       "\n",
       "    .dataframe tbody tr th {\n",
       "        vertical-align: top;\n",
       "    }\n",
       "\n",
       "    .dataframe thead tr th {\n",
       "        text-align: left;\n",
       "    }\n",
       "\n",
       "    .dataframe thead tr:last-of-type th {\n",
       "        text-align: right;\n",
       "    }\n",
       "</style>\n",
       "<table border=\"1\" class=\"dataframe\">\n",
       "  <thead>\n",
       "    <tr>\n",
       "      <th></th>\n",
       "      <th colspan=\"2\" halign=\"left\">count</th>\n",
       "    </tr>\n",
       "    <tr>\n",
       "      <th>convert</th>\n",
       "      <th>no</th>\n",
       "      <th>yes</th>\n",
       "    </tr>\n",
       "    <tr>\n",
       "      <th>group_page</th>\n",
       "      <th></th>\n",
       "      <th></th>\n",
       "    </tr>\n",
       "  </thead>\n",
       "  <tbody>\n",
       "    <tr>\n",
       "      <th>control_old</th>\n",
       "      <td>29</td>\n",
       "      <td>21</td>\n",
       "    </tr>\n",
       "    <tr>\n",
       "      <th>treatment_new</th>\n",
       "      <td>17</td>\n",
       "      <td>33</td>\n",
       "    </tr>\n",
       "  </tbody>\n",
       "</table>\n",
       "</div>"
      ],
      "text/plain": [
       "              count    \n",
       "convert          no yes\n",
       "group_page             \n",
       "control_old      29  21\n",
       "treatment_new    17  33"
      ]
     },
     "execution_count": 19,
     "metadata": {},
     "output_type": "execute_result"
    }
   ],
   "source": [
    "Vals=AB_Biv.groupby('group_page')['converted'].value_counts()\n",
    "Vals=Vals.reset_index().rename(columns={'level_1':'convert','converted':'count'})\n",
    "Vals=Vals.pivot(index='group_page',columns='convert')\n",
    "Vals"
   ]
  },
  {
   "cell_type": "markdown",
   "id": "251cd7bf",
   "metadata": {},
   "source": [
    "### So, our sample indicates that less people converted in control than people in the treatment group.\n",
    "    This info will be relevant in question 3."
   ]
  },
  {
   "cell_type": "markdown",
   "id": "59143d1b",
   "metadata": {},
   "source": [
    "---\n",
    "# Group_page / Time_spent Bivariate Analysis"
   ]
  },
  {
   "cell_type": "code",
   "execution_count": 20,
   "id": "a6771235",
   "metadata": {},
   "outputs": [
    {
     "data": {
      "image/png": "[encoded data removed]",
      "text/plain": [
       "<Figure size 432x504 with 1 Axes>"
      ]
     },
     "metadata": {
      "needs_background": "light"
     },
     "output_type": "display_data"
    }
   ],
   "source": [
    "sns.barplot(data=AB_Biv,x='group_page',y='time_spent_on_the_page',palette='mako')\n",
    "plt.gcf().set_size_inches(6,7)"
   ]
  },
  {
   "cell_type": "markdown",
   "id": "6609c1fb",
   "metadata": {},
   "source": [
    "### The plot indicates that in our sample, more time is spent on the new page.\n",
    "    Let's check this numerically."
   ]
  },
  {
   "cell_type": "code",
   "execution_count": 21,
   "id": "335e5339",
   "metadata": {},
   "outputs": [
    {
     "data": {
      "text/html": [
       "<div>\n",
       "<style scoped>\n",
       "    .dataframe tbody tr th:only-of-type {\n",
       "        vertical-align: middle;\n",
       "    }\n",
       "\n",
       "    .dataframe tbody tr th {\n",
       "        vertical-align: top;\n",
       "    }\n",
       "\n",
       "    .dataframe thead th {\n",
       "        text-align: right;\n",
       "    }\n",
       "</style>\n",
       "<table border=\"1\" class=\"dataframe\">\n",
       "  <thead>\n",
       "    <tr style=\"text-align: right;\">\n",
       "      <th></th>\n",
       "      <th>count</th>\n",
       "      <th>mean</th>\n",
       "      <th>std</th>\n",
       "      <th>min</th>\n",
       "      <th>25%</th>\n",
       "      <th>50%</th>\n",
       "      <th>75%</th>\n",
       "      <th>max</th>\n",
       "    </tr>\n",
       "    <tr>\n",
       "      <th>group_page</th>\n",
       "      <th></th>\n",
       "      <th></th>\n",
       "      <th></th>\n",
       "      <th></th>\n",
       "      <th></th>\n",
       "      <th></th>\n",
       "      <th></th>\n",
       "      <th></th>\n",
       "    </tr>\n",
       "  </thead>\n",
       "  <tbody>\n",
       "    <tr>\n",
       "      <th>control_old</th>\n",
       "      <td>50.0</td>\n",
       "      <td>4.5324</td>\n",
       "      <td>2.581975</td>\n",
       "      <td>0.19</td>\n",
       "      <td>2.720</td>\n",
       "      <td>4.380</td>\n",
       "      <td>6.4425</td>\n",
       "      <td>10.30</td>\n",
       "    </tr>\n",
       "    <tr>\n",
       "      <th>treatment_new</th>\n",
       "      <td>50.0</td>\n",
       "      <td>6.2232</td>\n",
       "      <td>1.817031</td>\n",
       "      <td>1.65</td>\n",
       "      <td>5.175</td>\n",
       "      <td>6.105</td>\n",
       "      <td>7.1600</td>\n",
       "      <td>10.71</td>\n",
       "    </tr>\n",
       "  </tbody>\n",
       "</table>\n",
       "</div>"
      ],
      "text/plain": [
       "               count    mean       std   min    25%    50%     75%    max\n",
       "group_page                                                               \n",
       "control_old     50.0  4.5324  2.581975  0.19  2.720  4.380  6.4425  10.30\n",
       "treatment_new   50.0  6.2232  1.817031  1.65  5.175  6.105  7.1600  10.71"
      ]
     },
     "execution_count": 21,
     "metadata": {},
     "output_type": "execute_result"
    }
   ],
   "source": [
    "AB_Means=AB_Biv.groupby('group_page')['time_spent_on_the_page'].describe()\n",
    "AB_Means"
   ]
  },
  {
   "cell_type": "markdown",
   "id": "ebb9ad87",
   "metadata": {},
   "source": [
    "### The control group on the old page tends to spend less time on the site. However, there is a minimum time of 0.19 minutes in control, which could be heavily skewing the data. Let's check each of the groups individually with histograms."
   ]
  },
  {
   "cell_type": "code",
   "execution_count": 22,
   "id": "2fc6937c",
   "metadata": {
    "scrolled": true
   },
   "outputs": [
    {
     "data": {
      "image/png": "[encoded data removed]",
      "text/plain": [
       "<Figure size 504x360 with 1 Axes>"
      ]
     },
     "metadata": {
      "needs_background": "light"
     },
     "output_type": "display_data"
    }
   ],
   "source": [
    "sns.histplot(data=AB_Biv[AB_Biv['group_page']=='control_old']['time_spent_on_the_page'].sort_values(\n",
    "    ).reset_index().drop('index',axis=1),bins=20,kde='True')\n",
    "plt.title('Control')\n",
    "plt.gcf().set_size_inches(7,5)"
   ]
  },
  {
   "cell_type": "markdown",
   "id": "f1109531",
   "metadata": {},
   "source": [
    "### As can be seen in the Control histogram, there are a high amount of low-time visits to the old page. The 0.19 minute visit was not an outlier, as multiple users visit the old page for less than a minute. The Control mean is higher than the median by a significant enough amount to give the plot a right skew."
   ]
  },
  {
   "cell_type": "code",
   "execution_count": 23,
   "id": "9c3467c8",
   "metadata": {
    "scrolled": true
   },
   "outputs": [
    {
     "data": {
      "image/png": "[encoded data removed]",
      "text/plain": [
       "<Figure size 504x360 with 1 Axes>"
      ]
     },
     "metadata": {
      "needs_background": "light"
     },
     "output_type": "display_data"
    }
   ],
   "source": [
    "sns.histplot(data=AB_Biv[AB_Biv['group_page']=='treatment_new']['time_spent_on_the_page'].sort_values(\n",
    "    ).reset_index().drop('index',axis=1),bins=20,palette='magma',kde='True')\n",
    "plt.title('Treatment')\n",
    "plt.gcf().set_size_inches(7,5)"
   ]
  },
  {
   "cell_type": "markdown",
   "id": "33cf7a26",
   "metadata": {},
   "source": [
    "### As can be seen in the Treatment histogram, there are very few low-time visits to the new page. There is still a mathematical right-skew in the treatment data, but unlike control, it is far less visually apparent. This indicates that within the sample, more people tend to stick around on the new page.\n",
    "\n",
    "### *Major question answer:* Within our sample, people tend to stay on the website longer in the treatment / new page group. This seems to indicate that people like it, at least in our sample size of 100.\n",
    "    This will be relevant in question 2."
   ]
  },
  {
   "cell_type": "markdown",
   "id": "bd44f9e0",
   "metadata": {},
   "source": [
    "---\n",
    "# Quick check Group_page / Language Preferred\n",
    "    This won't be full-fledged analysis, but instead a quick check to see if\n",
    "    there were any languages that weren't given enough trials in one group or the other."
   ]
  },
  {
   "cell_type": "code",
   "execution_count": 24,
   "id": "65f4048e",
   "metadata": {},
   "outputs": [
    {
     "data": {
      "image/png": "[encoded data removed]",
      "text/plain": [
       "<Figure size 576x432 with 1 Axes>"
      ]
     },
     "metadata": {
      "needs_background": "light"
     },
     "output_type": "display_data"
    }
   ],
   "source": [
    "sns.countplot(data=AB_Biv,x='language_preferred',hue='group_page',palette='mako')\n",
    "plt.legend(loc='center left', bbox_to_anchor=(1, 0.8))\n",
    "plt.gcf().set_size_inches(8,6)"
   ]
  },
  {
   "cell_type": "markdown",
   "id": "6f168b3a",
   "metadata": {},
   "source": [
    "### As can be seen above, the a/b splits between the control/treatment groups were equal for each language preference."
   ]
  },
  {
   "cell_type": "markdown",
   "id": "bba3d568",
   "metadata": {},
   "source": [
    "---\n",
    "# Converted / Time_spent Bivariate Analysis\n",
    "    This isn't a question asked below, but I am curious how time_spent effects new page conversion.\n",
    "#### *Minor question: In our sample, is there a link between time spent on the website and conversion to the new layout?*"
   ]
  },
  {
   "cell_type": "code",
   "execution_count": 25,
   "id": "ea6f608f",
   "metadata": {},
   "outputs": [
    {
     "data": {
      "image/png": "[encoded data removed]",
      "text/plain": [
       "<Figure size 648x432 with 1 Axes>"
      ]
     },
     "metadata": {
      "needs_background": "light"
     },
     "output_type": "display_data"
    }
   ],
   "source": [
    "sns.boxplot(data=AB_Biv,y='converted',x='time_spent_on_the_page',palette='crest')\n",
    "plt.gcf().set_size_inches(9,6)"
   ]
  },
  {
   "cell_type": "markdown",
   "id": "27d4fbea",
   "metadata": {},
   "source": [
    "### It seems in our sample, the more time spent on the page, the higher the conversion rate.\n",
    "### I want to add in another variable, group_page, to make sure the control/treatment groups aren't skewing the data in any weird ways."
   ]
  },
  {
   "cell_type": "code",
   "execution_count": 26,
   "id": "8e1a085a",
   "metadata": {},
   "outputs": [
    {
     "data": {
      "image/png": "[encoded data removed]",
      "text/plain": [
       "<Figure size 648x432 with 1 Axes>"
      ]
     },
     "metadata": {
      "needs_background": "light"
     },
     "output_type": "display_data"
    }
   ],
   "source": [
    "sns.boxplot(data=AB_Biv,hue='converted',x='time_spent_on_the_page',y='group_page',palette='crest')\n",
    "plt.legend(loc='center left', bbox_to_anchor=(1, 0.8))\n",
    "plt.gcf().set_size_inches(9,6)"
   ]
  },
  {
   "cell_type": "markdown",
   "id": "9196e548",
   "metadata": {},
   "source": [
    "### So, regardless of group, in our sample, the more time someone spent on the page, the more likely they were to convert to the new page.\n",
    "    This can be seen as a follow-up to the Group_page / Time_spent bivariate analysis."
   ]
  },
  {
   "cell_type": "markdown",
   "id": "c1245ea3",
   "metadata": {},
   "source": [
    "---\n",
    "# Conversion / Language Bivariate Analysis\n",
    "### I am using subplots to plot both x='converted' and x='language_preferred', as both countplots are useful.\n",
    "    The left plot makes it easy to compare language preferences with both converted and unconverted users.\n",
    "    \n",
    "    The right plot makes it easy to visualize the proportions of each languages' conversion rate."
   ]
  },
  {
   "cell_type": "code",
   "execution_count": 27,
   "id": "e5293a04",
   "metadata": {},
   "outputs": [
    {
     "data": {
      "image/png": "[encoded data removed]",
      "text/plain": [
       "<Figure size 792x360 with 2 Axes>"
      ]
     },
     "metadata": {
      "needs_background": "light"
     },
     "output_type": "display_data"
    }
   ],
   "source": [
    "p,(count1,count2)=plt.subplots(\n",
    "    ncols=2,\n",
    "    figsize=(11,5)\n",
    ")\n",
    "\n",
    "sns.countplot(data=AB_Biv,x='converted',hue='language_preferred',ax=count1,palette='mako')\n",
    "sns.countplot(data=AB_Biv,hue='converted',x='language_preferred',ax=count2,palette='mako')\n",
    "\n",
    "count1.legend(loc='center left', bbox_to_anchor=(1, 0.8))\n",
    "count2.legend(loc='center left', bbox_to_anchor=(1, 0.8))\n",
    "p.tight_layout()"
   ]
  },
  {
   "cell_type": "markdown",
   "id": "f4d9f9da",
   "metadata": {},
   "source": [
    "### Within our sample:\n",
    "1) English has the highest conversion rate by a mile. It also has the highest number of conversions overall.    \n",
    "2) French has the lowest conversion rate, as well as the only conversion rate that weighs more  \n",
    "   heavily towards no.  \n",
    "   \n",
    "### Let's put this data into its own pivoted dataframe (for use in the independence test we will do in question 4)."
   ]
  },
  {
   "cell_type": "code",
   "execution_count": 28,
   "id": "8bd549c3",
   "metadata": {},
   "outputs": [
    {
     "data": {
      "text/html": [
       "<div>\n",
       "<style scoped>\n",
       "    .dataframe tbody tr th:only-of-type {\n",
       "        vertical-align: middle;\n",
       "    }\n",
       "\n",
       "    .dataframe tbody tr th {\n",
       "        vertical-align: top;\n",
       "    }\n",
       "\n",
       "    .dataframe thead tr th {\n",
       "        text-align: left;\n",
       "    }\n",
       "\n",
       "    .dataframe thead tr:last-of-type th {\n",
       "        text-align: right;\n",
       "    }\n",
       "</style>\n",
       "<table border=\"1\" class=\"dataframe\">\n",
       "  <thead>\n",
       "    <tr>\n",
       "      <th></th>\n",
       "      <th colspan=\"2\" halign=\"left\">count</th>\n",
       "    </tr>\n",
       "    <tr>\n",
       "      <th>converted</th>\n",
       "      <th>no</th>\n",
       "      <th>yes</th>\n",
       "    </tr>\n",
       "    <tr>\n",
       "      <th>language</th>\n",
       "      <th></th>\n",
       "      <th></th>\n",
       "    </tr>\n",
       "  </thead>\n",
       "  <tbody>\n",
       "    <tr>\n",
       "      <th>English</th>\n",
       "      <td>11</td>\n",
       "      <td>21</td>\n",
       "    </tr>\n",
       "    <tr>\n",
       "      <th>French</th>\n",
       "      <td>19</td>\n",
       "      <td>15</td>\n",
       "    </tr>\n",
       "    <tr>\n",
       "      <th>Spanish</th>\n",
       "      <td>16</td>\n",
       "      <td>18</td>\n",
       "    </tr>\n",
       "  </tbody>\n",
       "</table>\n",
       "</div>"
      ],
      "text/plain": [
       "          count    \n",
       "converted    no yes\n",
       "language           \n",
       "English      11  21\n",
       "French       19  15\n",
       "Spanish      16  18"
      ]
     },
     "execution_count": 28,
     "metadata": {},
     "output_type": "execute_result"
    }
   ],
   "source": [
    "AB_Con_Lan=AB_Biv.groupby(['converted'])['language_preferred'].value_counts().reset_index(\n",
    "                    ).rename(columns = {\"level_1\":\"language\",'language_preferred':'count'})\n",
    "AB_Con_Lan=AB_Con_Lan.pivot(index='language',columns='converted')\n",
    "AB_Con_Lan"
   ]
  },
  {
   "cell_type": "markdown",
   "id": "08b50905",
   "metadata": {},
   "source": [
    "---\n",
    "# Language / Time_spent Bivariate Analysis\n",
    "### *Major Question:* Does preferred language have an effect on time spent on the site? This could indicate there is a translation problem if one is significantly lower."
   ]
  },
  {
   "cell_type": "code",
   "execution_count": 29,
   "id": "3566f89a",
   "metadata": {},
   "outputs": [
    {
     "data": {
      "image/png": "[encoded data removed]",
      "text/plain": [
       "<Figure size 1008x576 with 2 Axes>"
      ]
     },
     "metadata": {
      "needs_background": "light"
     },
     "output_type": "display_data"
    }
   ],
   "source": [
    "p,(box,strip)=plt.subplots(\n",
    "    nrows=2,\n",
    "    sharex=True,\n",
    "    figsize=(14,8)\n",
    "    )\n",
    "\n",
    "sns.boxplot(data=AB_Biv,y='language_preferred',x='time_spent_on_the_page',showmeans=True,ax=box,palette='flare')\n",
    "\n",
    "\n",
    "sns.stripplot(data=AB_Biv,y='language_preferred',x='time_spent_on_the_page',ax=strip,palette='flare')\n",
    "\n",
    "\n",
    "\n",
    "strip.axvline(\n",
    "    AB_Biv[AB_Biv['language_preferred']=='English']['time_spent_on_the_page'].mean(), color=\"orange\", linestyle=\"-\",\n",
    "    label='EnglishMean'\n",
    ")\n",
    "strip.axvline(\n",
    "    AB_Biv[AB_Biv['language_preferred']=='French']['time_spent_on_the_page'].mean(), color=\"red\", linestyle=\"-\",\n",
    "    label='FrenchMean'\n",
    ")\n",
    "strip.axvline(\n",
    "    AB_Biv[AB_Biv['language_preferred']=='Spanish']['time_spent_on_the_page'].mean(), color=\"magenta\", linestyle=\"-\",\n",
    "    label='SpanishMean'\n",
    ")\n",
    "\n",
    "strip.legend(loc='center left', bbox_to_anchor=(1, 0.75));\n"
   ]
  },
  {
   "cell_type": "markdown",
   "id": "2af1fa0f",
   "metadata": {},
   "source": [
    "### Nothing really stands out here, the means and medians are all fairly close, with French standard deviation being higher than the others.\n",
    "### Let's include group_page as a hue."
   ]
  },
  {
   "cell_type": "code",
   "execution_count": 30,
   "id": "e96b9b09",
   "metadata": {},
   "outputs": [
    {
     "data": {
      "image/png": "[encoded data removed]",
      "text/plain": [
       "<Figure size 1008x576 with 2 Axes>"
      ]
     },
     "metadata": {
      "needs_background": "light"
     },
     "output_type": "display_data"
    }
   ],
   "source": [
    "p,(box,strip)=plt.subplots(\n",
    "    nrows=2,\n",
    "    sharex=True,\n",
    "    figsize=(14,8)\n",
    "    )\n",
    "\n",
    "sns.boxplot(data=AB_Biv,y='language_preferred',x='time_spent_on_the_page',\n",
    "            hue='group_page',showmeans=True,ax=box,palette='flare')\n",
    "\n",
    "\n",
    "sns.stripplot(data=AB_Biv,y='language_preferred',x='time_spent_on_the_page',ax=strip,palette='flare');\n"
   ]
  },
  {
   "cell_type": "markdown",
   "id": "6977b886",
   "metadata": {},
   "source": [
    "### Universally, the new page seems to attract longer attention regardless of language.\n",
    "\n",
    "### However, there does seem to be a pattern in the treatment/new group (English mean and median is much higher than the others). This could indicate possible translation issues in the new page, which most are willing to put up with due to the layout being generally superior.\n",
    "\n",
    "### Let's get a groupby for the treatment group for question 5."
   ]
  },
  {
   "cell_type": "code",
   "execution_count": 31,
   "id": "e90135c0",
   "metadata": {},
   "outputs": [
    {
     "data": {
      "text/html": [
       "<div>\n",
       "<style scoped>\n",
       "    .dataframe tbody tr th:only-of-type {\n",
       "        vertical-align: middle;\n",
       "    }\n",
       "\n",
       "    .dataframe tbody tr th {\n",
       "        vertical-align: top;\n",
       "    }\n",
       "\n",
       "    .dataframe thead th {\n",
       "        text-align: right;\n",
       "    }\n",
       "</style>\n",
       "<table border=\"1\" class=\"dataframe\">\n",
       "  <thead>\n",
       "    <tr style=\"text-align: right;\">\n",
       "      <th></th>\n",
       "      <th>count</th>\n",
       "      <th>mean</th>\n",
       "      <th>std</th>\n",
       "      <th>min</th>\n",
       "      <th>25%</th>\n",
       "      <th>50%</th>\n",
       "      <th>75%</th>\n",
       "      <th>max</th>\n",
       "    </tr>\n",
       "    <tr>\n",
       "      <th>language_preferred</th>\n",
       "      <th></th>\n",
       "      <th></th>\n",
       "      <th></th>\n",
       "      <th></th>\n",
       "      <th></th>\n",
       "      <th></th>\n",
       "      <th></th>\n",
       "      <th></th>\n",
       "    </tr>\n",
       "  </thead>\n",
       "  <tbody>\n",
       "    <tr>\n",
       "      <th>English</th>\n",
       "      <td>16.0</td>\n",
       "      <td>6.663750</td>\n",
       "      <td>1.984150</td>\n",
       "      <td>3.65</td>\n",
       "      <td>5.3275</td>\n",
       "      <td>6.865</td>\n",
       "      <td>7.7125</td>\n",
       "      <td>10.50</td>\n",
       "    </tr>\n",
       "    <tr>\n",
       "      <th>French</th>\n",
       "      <td>17.0</td>\n",
       "      <td>6.196471</td>\n",
       "      <td>1.933394</td>\n",
       "      <td>3.30</td>\n",
       "      <td>5.2500</td>\n",
       "      <td>5.420</td>\n",
       "      <td>7.2700</td>\n",
       "      <td>10.71</td>\n",
       "    </tr>\n",
       "    <tr>\n",
       "      <th>Spanish</th>\n",
       "      <td>17.0</td>\n",
       "      <td>5.835294</td>\n",
       "      <td>1.525656</td>\n",
       "      <td>1.65</td>\n",
       "      <td>5.1500</td>\n",
       "      <td>6.200</td>\n",
       "      <td>6.7000</td>\n",
       "      <td>8.08</td>\n",
       "    </tr>\n",
       "  </tbody>\n",
       "</table>\n",
       "</div>"
      ],
      "text/plain": [
       "                    count      mean       std   min     25%    50%     75%  \\\n",
       "language_preferred                                                           \n",
       "English              16.0  6.663750  1.984150  3.65  5.3275  6.865  7.7125   \n",
       "French               17.0  6.196471  1.933394  3.30  5.2500  5.420  7.2700   \n",
       "Spanish              17.0  5.835294  1.525656  1.65  5.1500  6.200  6.7000   \n",
       "\n",
       "                      max  \n",
       "language_preferred         \n",
       "English             10.50  \n",
       "French              10.71  \n",
       "Spanish              8.08  "
      ]
     },
     "execution_count": 31,
     "metadata": {},
     "output_type": "execute_result"
    }
   ],
   "source": [
    "AB_ANOVA=AB_Biv[AB_Biv['group_page']=='treatment_new'].groupby(['language_preferred'])['time_spent_on_the_page'].describe()\n",
    "AB_ANOVA"
   ]
  },
  {
   "cell_type": "markdown",
   "id": "27906576",
   "metadata": {
    "id": "27906576"
   },
   "source": [
    "# End of analysis\n",
    "---\n",
    "---\n",
    "---\n",
    "\n",
    "# 2. Do the users spend more time on the new landing page than the existing landing page? (10 Marks)\n",
    "    AKA - PopMean_New > PopMean_Old"
   ]
  },
  {
   "cell_type": "markdown",
   "id": "e5fdf0c8",
   "metadata": {
    "id": "e5fdf0c8"
   },
   "source": [
    "## Perform Visual Analysis\n",
    "### Both the Control time_spent and Treatment time_spent appear normally distributed. This will be shown with shapiro-wilk in data gathering as well."
   ]
  },
  {
   "cell_type": "code",
   "execution_count": 32,
   "id": "6eZJa41eg21n",
   "metadata": {
    "id": "6eZJa41eg21n"
   },
   "outputs": [
    {
     "data": {
      "image/png": "[encoded data removed]",
      "text/plain": [
       "<Figure size 504x360 with 1 Axes>"
      ]
     },
     "metadata": {
      "needs_background": "light"
     },
     "output_type": "display_data"
    }
   ],
   "source": [
    "sns.histplot(data=AB_Biv[AB_Biv['group_page']=='control_old']['time_spent_on_the_page'].sort_values(\n",
    "    ).reset_index().drop('index',axis=1),bins=20,kde='True')\n",
    "plt.title('Control')\n",
    "plt.gcf().set_size_inches(7,5)"
   ]
  },
  {
   "cell_type": "code",
   "execution_count": 33,
   "id": "530022f6",
   "metadata": {},
   "outputs": [
    {
     "data": {
      "image/png": "[encoded data removed]",
      "text/plain": [
       "<Figure size 504x360 with 1 Axes>"
      ]
     },
     "metadata": {
      "needs_background": "light"
     },
     "output_type": "display_data"
    }
   ],
   "source": [
    "sns.histplot(data=AB_Biv[AB_Biv['group_page']=='treatment_new']['time_spent_on_the_page'].sort_values(\n",
    "    ).reset_index().drop('index',axis=1),bins=20,palette='magma',kde='True')\n",
    "plt.title('Treatment')\n",
    "plt.gcf().set_size_inches(7,5)"
   ]
  },
  {
   "cell_type": "code",
   "execution_count": 34,
   "id": "b65e9815",
   "metadata": {},
   "outputs": [
    {
     "data": {
      "image/png": "[encoded data removed]",
      "text/plain": [
       "<Figure size 432x288 with 1 Axes>"
      ]
     },
     "metadata": {
      "needs_background": "light"
     },
     "output_type": "display_data"
    }
   ],
   "source": [
    "sns.boxplot(data=AB_Biv,y='group_page',x='time_spent_on_the_page');\n",
    "#It would seem by the sample that the standard deviations are very far apart. However,\n",
    "#we cannot make that call off of visuals alone."
   ]
  },
  {
   "cell_type": "markdown",
   "id": "cc78e78c",
   "metadata": {},
   "source": [
    "### This is a problem dealing with equality/inequality of independent means, so we will be using a 2 sample independent mean test. We do not know what any of the standard deviations are, nor do we know if they are inequal or equal.\n",
    "---"
   ]
  },
  {
   "cell_type": "markdown",
   "id": "56b3dafd",
   "metadata": {
    "id": "56b3dafd"
   },
   "source": [
    "## Step 1: Define the null and alternate hypotheses\n",
    "    The null hypothesis is that the mean time spent on\n",
    "    E-News is equal for the old and new layout.\n",
    "    \n",
    "    The alternative hypothesis is that the mean time spent on the\n",
    "    new E-News layout is greater than that of the old layout."
   ]
  },
  {
   "cell_type": "markdown",
   "id": "c6dbfbb2",
   "metadata": {
    "id": "d2ac77ef"
   },
   "source": [
    "1) Continuous Data  \n",
    "*The numerical data is time, which is continuous.*\n",
    "\n",
    "2) Normally Distributed  \n",
    "*Both of the histograms (group_page,time_spent) produced in Visual Analysis appear normal, but will be tested with shapiro-wilk.*\n",
    "\n",
    "3) Independent Populations  \n",
    "*The a/b test requires this, otherwise the control would not be a control.*\n",
    "\n",
    "4) Inequal OR Equal Population SDs  \n",
    "*More on this later.*\n",
    "\n",
    "5) Random Sampling   \n",
    "*This is assumed of the dataset.*\n",
    "\n",
    "\n",
    "# _Null_\n",
    "# H<sub>0</sub> : μ<sub>new</sub> = μ<sub>old</sub>  \n",
    "# _Alt_\n",
    "# H<sub>a</sub> : μ<sub>new</sub> > μ<sub>old</sub>"
   ]
  },
  {
   "cell_type": "markdown",
   "id": "c7ee4907",
   "metadata": {
    "id": "c7ee4907"
   },
   "source": [
    "## Step 2: Select Appropriate test"
   ]
  },
  {
   "cell_type": "markdown",
   "id": "8a8f394d",
   "metadata": {
    "id": "2c183cd7"
   },
   "source": [
    "shapiro,  \n",
    "f-test for equality of variances  \n",
    "ttest_ind"
   ]
  },
  {
   "cell_type": "markdown",
   "id": "3f58c9a7",
   "metadata": {
    "id": "3f58c9a7"
   },
   "source": [
    "## Step 3: Decide the significance level"
   ]
  },
  {
   "cell_type": "markdown",
   "id": "abb342f9",
   "metadata": {
    "id": "92d7d7ee"
   },
   "source": [
    "Standard significance is 0.05"
   ]
  },
  {
   "cell_type": "markdown",
   "id": "5fed2eac",
   "metadata": {
    "id": "5fed2eac"
   },
   "source": [
    "## Step 4: Collect and prepare data\n",
    "    I will start with both shapiro tests.\n",
    "    \n",
    "    Remember, these are to test specifically the histograms of time_spent_on_the_page\n",
    "    when filtered by the control group, and when filtered by the treatment group."
   ]
  },
  {
   "cell_type": "markdown",
   "id": "6dd415f7",
   "metadata": {},
   "source": [
    "# _Null_\n",
    "# H<sub>0</sub> : Time_spent (in only control_old) is Normally Distributed\n",
    "# _Alt_\n",
    "# H<sub>a</sub> : Time_spent (in only control_old) is NOT Normally Distributed"
   ]
  },
  {
   "cell_type": "code",
   "execution_count": 35,
   "id": "07a7ce0d",
   "metadata": {},
   "outputs": [
    {
     "data": {
      "text/plain": [
       "0.45611920952796936"
      ]
     },
     "execution_count": 35,
     "metadata": {},
     "output_type": "execute_result"
    }
   ],
   "source": [
    "from scipy.stats import shapiro\n",
    "\n",
    "w,p_value=shapiro(AB_Biv[AB_Biv['group_page']=='control_old']['time_spent_on_the_page'].sort_values(\n",
    "    ).reset_index().drop('index',axis=1))\n",
    "p_value"
   ]
  },
  {
   "cell_type": "markdown",
   "id": "350a8c9b",
   "metadata": {},
   "source": [
    "### Therefore, we fail to reject the null, and Time_spent (in the control group) is normally distributed."
   ]
  },
  {
   "cell_type": "markdown",
   "id": "dad599de",
   "metadata": {},
   "source": [
    "# _Null_\n",
    "# H<sub>0</sub> : Time_spent (in only treatment_new) is Normally Distributed\n",
    "# _Alt_\n",
    "# H<sub>a</sub> : Time_spent (in only treatment_new) is NOT Normally Distributed"
   ]
  },
  {
   "cell_type": "code",
   "execution_count": 36,
   "id": "4953b998",
   "metadata": {},
   "outputs": [
    {
     "data": {
      "text/plain": [
       "0.8040016293525696"
      ]
     },
     "execution_count": 36,
     "metadata": {},
     "output_type": "execute_result"
    }
   ],
   "source": [
    "w,p_value=shapiro(AB_Biv[AB_Biv['group_page']=='treatment_new']['time_spent_on_the_page'].sort_values(\n",
    "    ).reset_index().drop('index',axis=1))\n",
    "p_value"
   ]
  },
  {
   "cell_type": "markdown",
   "id": "f5269b70",
   "metadata": {},
   "source": [
    "### Therefore, we fail to reject the null, and Time_spent (in the treatment group) is normally distributed.\n",
    "\n",
    "### Next, we will create the two series in which control data for time_spent and treatment data for time_spent are stored."
   ]
  },
  {
   "cell_type": "code",
   "execution_count": 56,
   "id": "f2a2db21",
   "metadata": {},
   "outputs": [
    {
     "data": {
      "text/html": [
       "<div>\n",
       "<style scoped>\n",
       "    .dataframe tbody tr th:only-of-type {\n",
       "        vertical-align: middle;\n",
       "    }\n",
       "\n",
       "    .dataframe tbody tr th {\n",
       "        vertical-align: top;\n",
       "    }\n",
       "\n",
       "    .dataframe thead th {\n",
       "        text-align: right;\n",
       "    }\n",
       "</style>\n",
       "<table border=\"1\" class=\"dataframe\">\n",
       "  <thead>\n",
       "    <tr style=\"text-align: right;\">\n",
       "      <th></th>\n",
       "      <th>count</th>\n",
       "      <th>mean</th>\n",
       "      <th>std</th>\n",
       "      <th>min</th>\n",
       "      <th>25%</th>\n",
       "      <th>50%</th>\n",
       "      <th>75%</th>\n",
       "      <th>max</th>\n",
       "    </tr>\n",
       "    <tr>\n",
       "      <th>group_page</th>\n",
       "      <th></th>\n",
       "      <th></th>\n",
       "      <th></th>\n",
       "      <th></th>\n",
       "      <th></th>\n",
       "      <th></th>\n",
       "      <th></th>\n",
       "      <th></th>\n",
       "    </tr>\n",
       "  </thead>\n",
       "  <tbody>\n",
       "    <tr>\n",
       "      <th>control_old</th>\n",
       "      <td>50.0</td>\n",
       "      <td>4.5324</td>\n",
       "      <td>2.581975</td>\n",
       "      <td>0.19</td>\n",
       "      <td>2.720</td>\n",
       "      <td>4.380</td>\n",
       "      <td>6.4425</td>\n",
       "      <td>10.30</td>\n",
       "    </tr>\n",
       "    <tr>\n",
       "      <th>treatment_new</th>\n",
       "      <td>50.0</td>\n",
       "      <td>6.2232</td>\n",
       "      <td>1.817031</td>\n",
       "      <td>1.65</td>\n",
       "      <td>5.175</td>\n",
       "      <td>6.105</td>\n",
       "      <td>7.1600</td>\n",
       "      <td>10.71</td>\n",
       "    </tr>\n",
       "  </tbody>\n",
       "</table>\n",
       "</div>"
      ],
      "text/plain": [
       "               count    mean       std   min    25%    50%     75%    max\n",
       "group_page                                                               \n",
       "control_old     50.0  4.5324  2.581975  0.19  2.720  4.380  6.4425  10.30\n",
       "treatment_new   50.0  6.2232  1.817031  1.65  5.175  6.105  7.1600  10.71"
      ]
     },
     "execution_count": 56,
     "metadata": {},
     "output_type": "execute_result"
    }
   ],
   "source": [
    "AB_Means #for standard deviation reference"
   ]
  },
  {
   "cell_type": "code",
   "execution_count": 37,
   "id": "6a185545",
   "metadata": {},
   "outputs": [],
   "source": [
    "AB_old=AB[AB['group_page']=='control_old']['time_spent_on_the_page']\n",
    "AB_new=AB[AB['group_page']=='treatment_new']['time_spent_on_the_page']"
   ]
  },
  {
   "cell_type": "markdown",
   "id": "f5c5258d",
   "metadata": {
    "id": "f5c5258d"
   },
   "source": [
    "\n",
    "### Finally, we need to check for equality/inequality of the variances.\n",
    "    \n",
    "## f-test for equality of variances/standard deviations.\n",
    "1) Normally Distributed Population  \n",
    "    *Both of the histograms (group_page,time_spent) produced in Visual Analysis are indeed approximately normal.*  \n",
    "    \n",
    "2) Independent Populations  \n",
    "    *The a/b test requires this, otherwise the control would not be a control.*  \n",
    "    \n",
    "3) Larger Variance is placed in the NUMERATOR.  \n",
    "    *Look above. control_old has the larger standard deviation, so we shall place that in the  \n",
    "    numerator of the f-test.*  \n",
    " \n",
    "\n",
    "# _Null_\n",
    "# H<sub>0</sub> : σ<sub>1</sub><sup>2</sup> = σ<sub>2</sub><sup>2</sup> \n",
    "# _Alt_\n",
    "# H<sub>a</sub> : σ<sub>1</sub><sup>2</sup> != σ<sub>2</sub><sup>2</sup> "
   ]
  },
  {
   "cell_type": "code",
   "execution_count": 38,
   "id": "1135e6d2",
   "metadata": {},
   "outputs": [
    {
     "name": "stdout",
     "output_type": "stream",
     "text": [
      "The p_value is 0.0077056\n"
     ]
    }
   ],
   "source": [
    "from scipy.stats import f\n",
    "def f_test(x, y):\n",
    "    x = np.array(x)\n",
    "    y = np.array(y)\n",
    "    test_stat = np.var(x, ddof=1)/np.var(y, ddof=1)\n",
    "    \n",
    "    dfn = x.size-1\n",
    "    dfd = y.size-1\n",
    "\n",
    "    p = (1 - f.cdf(test_stat, dfn, dfd))\n",
    "\n",
    "    return(print(\"The p_value is {:.7f}\" .format(p)))\n",
    "\n",
    "f_test(AB_old,AB_new)"
   ]
  },
  {
   "cell_type": "markdown",
   "id": "565b18fd",
   "metadata": {},
   "source": [
    "### Since this is smaller than our standard of 0.05 𝛼, we can reject the null, and these variances are not equal.\n",
    "\n",
    "## Step 5: Calculate the p-value\n",
    "\n",
    "### Now, we use ttest_ind with equal_var = False to find the means' p-value."
   ]
  },
  {
   "cell_type": "code",
   "execution_count": 39,
   "id": "fac8594a",
   "metadata": {
    "id": "fac8594a"
   },
   "outputs": [
    {
     "data": {
      "text/plain": [
       "0.0001392381225166549"
      ]
     },
     "execution_count": 39,
     "metadata": {},
     "output_type": "execute_result"
    }
   ],
   "source": [
    "from scipy.stats import ttest_ind as ttin\n",
    "\n",
    "test_stat_false,p_value_false=ttin(AB_new,AB_old,equal_var=False,alternative='greater')\n",
    "p_value_false"
   ]
  },
  {
   "cell_type": "markdown",
   "id": "359b12f8",
   "metadata": {
    "id": "359b12f8"
   },
   "source": [
    "## Step 6: Compare the p-value with $\\alpha$"
   ]
  },
  {
   "cell_type": "markdown",
   "id": "a21a7a51",
   "metadata": {
    "id": "7be47289"
   },
   "source": [
    "p_value_false is far lower than our level of significance of 0.05. Therefore..."
   ]
  },
  {
   "cell_type": "markdown",
   "id": "d9affc84",
   "metadata": {
    "id": "d9affc84"
   },
   "source": [
    "## Step 7:  Draw inference"
   ]
  },
  {
   "cell_type": "markdown",
   "id": "3f71dfe7",
   "metadata": {
    "id": "6b16dd4b"
   },
   "source": [
    "# The null hypothesis is rejected. The new-layout does indeed retain more attention throughout the population."
   ]
  },
  {
   "cell_type": "markdown",
   "id": "353e9d24",
   "metadata": {
    "id": "353e9d24"
   },
   "source": [
    "---\n",
    "---\n",
    "---\n",
    "\n",
    "# 3. Is the conversion rate (the proportion of users who visit the landing page and get converted) for the new page greater than the conversion rate for the old page? (10 Marks)\n",
    "    AKA Conversion%_New > Conversion%_Old"
   ]
  },
  {
   "cell_type": "markdown",
   "id": "52fe756c",
   "metadata": {
    "id": "e5fdf0c8"
   },
   "source": [
    "## Perform Visual Analysis\n"
   ]
  },
  {
   "cell_type": "code",
   "execution_count": 40,
   "id": "d26659a9",
   "metadata": {},
   "outputs": [
    {
     "data": {
      "image/png": "[encoded data removed]",
      "text/plain": [
       "<Figure size 720x360 with 1 Axes>"
      ]
     },
     "metadata": {
      "needs_background": "light"
     },
     "output_type": "display_data"
    }
   ],
   "source": [
    "sns.countplot(data=AB_Biv,x='group_page',hue='converted',palette='mako')\n",
    "plt.gcf().set_size_inches(10,5)"
   ]
  },
  {
   "cell_type": "markdown",
   "id": "3699ce54",
   "metadata": {},
   "source": [
    "### It seems cut and dry here. We will perform a 2-sample proportion z-test to confirm our suspicions."
   ]
  },
  {
   "cell_type": "markdown",
   "id": "743ee788",
   "metadata": {},
   "source": [
    "## Step 1: Define the null and alternate hypotheses"
   ]
  },
  {
   "cell_type": "markdown",
   "id": "42e01643",
   "metadata": {},
   "source": [
    "    The null hypothesis is that the control and treatment have equal\n",
    "    proportions of converted users.\n",
    "    \n",
    "    The alternative hypothesis is that the treatment has a higher\n",
    "    proportion of converted users than that of the control.\n",
    "    \n",
    "### Assumptions:\n",
    "1) Binomially Distributed Population   \n",
    "*We will be making the plot information into a proportion.*\n",
    "\n",
    "2) Independent Populations   \n",
    "*Has to be or else it's not a control.*\n",
    "\n",
    "3) Random Sampling   \n",
    "*Assumed as part of the experiment.*\n",
    "\n",
    "4) When both n×p and n×(1-p) are >= 10 for both populations, the binomial distributions can be approximated to normal distributions.  \n",
    "*More on this later.*\n",
    "\n",
    "\n",
    "# _Null_\n",
    "# H<sub>0</sub> : p<sub>new</sub> = p<sub>old</sub>\n",
    "# _Alt_\n",
    "# H<sub>a</sub> : p<sub>new</sub> > p<sub>old</sub>"
   ]
  },
  {
   "cell_type": "markdown",
   "id": "e7fc03a2",
   "metadata": {},
   "source": [
    "## Step 2: Select Appropriate test"
   ]
  },
  {
   "cell_type": "markdown",
   "id": "d6eca278",
   "metadata": {},
   "source": [
    "proportions_ztest (for 2 independent populations)"
   ]
  },
  {
   "cell_type": "markdown",
   "id": "69c0af76",
   "metadata": {},
   "source": [
    "## Step 3: Decide the significance level"
   ]
  },
  {
   "cell_type": "markdown",
   "id": "42aa740e",
   "metadata": {},
   "source": [
    "Standard 0.05."
   ]
  },
  {
   "cell_type": "markdown",
   "id": "77c4bb30",
   "metadata": {},
   "source": [
    "## Step 4: Collect and prepare data"
   ]
  },
  {
   "cell_type": "code",
   "execution_count": 41,
   "id": "a8e84d15",
   "metadata": {},
   "outputs": [
    {
     "data": {
      "text/html": [
       "<div>\n",
       "<style scoped>\n",
       "    .dataframe tbody tr th:only-of-type {\n",
       "        vertical-align: middle;\n",
       "    }\n",
       "\n",
       "    .dataframe tbody tr th {\n",
       "        vertical-align: top;\n",
       "    }\n",
       "\n",
       "    .dataframe thead tr th {\n",
       "        text-align: left;\n",
       "    }\n",
       "\n",
       "    .dataframe thead tr:last-of-type th {\n",
       "        text-align: right;\n",
       "    }\n",
       "</style>\n",
       "<table border=\"1\" class=\"dataframe\">\n",
       "  <thead>\n",
       "    <tr>\n",
       "      <th></th>\n",
       "      <th colspan=\"2\" halign=\"left\">count</th>\n",
       "    </tr>\n",
       "    <tr>\n",
       "      <th>convert</th>\n",
       "      <th>no</th>\n",
       "      <th>yes</th>\n",
       "    </tr>\n",
       "    <tr>\n",
       "      <th>group_page</th>\n",
       "      <th></th>\n",
       "      <th></th>\n",
       "    </tr>\n",
       "  </thead>\n",
       "  <tbody>\n",
       "    <tr>\n",
       "      <th>control_old</th>\n",
       "      <td>29</td>\n",
       "      <td>21</td>\n",
       "    </tr>\n",
       "    <tr>\n",
       "      <th>treatment_new</th>\n",
       "      <td>17</td>\n",
       "      <td>33</td>\n",
       "    </tr>\n",
       "  </tbody>\n",
       "</table>\n",
       "</div>"
      ],
      "text/plain": [
       "              count    \n",
       "convert          no yes\n",
       "group_page             \n",
       "control_old      29  21\n",
       "treatment_new    17  33"
      ]
     },
     "execution_count": 41,
     "metadata": {},
     "output_type": "execute_result"
    }
   ],
   "source": [
    "Vals"
   ]
  },
  {
   "cell_type": "markdown",
   "id": "6405704d",
   "metadata": {},
   "source": [
    "### For both control and treatment, n=50.\n",
    "### np and n(1-p) for both control and treatment are shown above:\n",
    "    control np = 21\n",
    "    control n(1-p) = 29\n",
    "    treatment np = 33\n",
    "    treatment n(1-p) = 17\n",
    "### Since all 4 are above 10, the 4th assumption is satisfied, and we can use the 2-sample proportion z-test."
   ]
  },
  {
   "cell_type": "markdown",
   "id": "1e334908",
   "metadata": {},
   "source": [
    "## Step 5: Calculate the p-value"
   ]
  },
  {
   "cell_type": "code",
   "execution_count": 42,
   "id": "931de1a0",
   "metadata": {},
   "outputs": [],
   "source": [
    "from statsmodels.stats.proportion import proportions_ztest as pzt\n",
    "\n",
    "Yes=np.array([33,21])\n",
    "N=np.array([50,50])\n",
    "\n",
    "test_stat,p=pzt(Yes,N,alternative='larger')"
   ]
  },
  {
   "cell_type": "markdown",
   "id": "5dc92ef4",
   "metadata": {},
   "source": [
    "## Step 6: Compare the p-value with $\\alpha$"
   ]
  },
  {
   "cell_type": "code",
   "execution_count": 43,
   "id": "f973054e",
   "metadata": {},
   "outputs": [
    {
     "data": {
      "text/plain": [
       "True"
      ]
     },
     "execution_count": 43,
     "metadata": {},
     "output_type": "execute_result"
    }
   ],
   "source": [
    "p < 0.05"
   ]
  },
  {
   "cell_type": "markdown",
   "id": "27d235d2",
   "metadata": {},
   "source": [
    "## Step 7:  Draw inference"
   ]
  },
  {
   "cell_type": "markdown",
   "id": "047ac52b",
   "metadata": {},
   "source": [
    "# Since the p-value is lower than 0.05, we reject the null hypothesis. The treatment group does indeed have a higher conversion rate to the new layout throughout the population.\n",
    "---\n",
    "---\n",
    "---\n"
   ]
  },
  {
   "cell_type": "markdown",
   "id": "d49bfa2d",
   "metadata": {
    "id": "d49bfa2d"
   },
   "source": [
    "# 4. Are conversion and preferred language independent or related? (10 Marks)\n",
    "    AKA Are Conversion & Preferred Language Independent or Dependent?"
   ]
  },
  {
   "cell_type": "markdown",
   "id": "a5945cd4",
   "metadata": {},
   "source": [
    "## Perform Visual Analysis"
   ]
  },
  {
   "cell_type": "code",
   "execution_count": 44,
   "id": "7a2a15f4",
   "metadata": {},
   "outputs": [
    {
     "data": {
      "image/png": "[encoded data removed]",
      "text/plain": [
       "<Figure size 792x360 with 2 Axes>"
      ]
     },
     "metadata": {
      "needs_background": "light"
     },
     "output_type": "display_data"
    }
   ],
   "source": [
    "p,(count1,count2)=plt.subplots(\n",
    "    ncols=2,\n",
    "    figsize=(11,5)\n",
    ")\n",
    "\n",
    "sns.countplot(data=AB_Biv,x='converted',hue='language_preferred',ax=count1,palette='mako')\n",
    "sns.countplot(data=AB_Biv,hue='converted',x='language_preferred',ax=count2,palette='mako')\n",
    "\n",
    "count1.legend(loc='center left', bbox_to_anchor=(1, 0.8))\n",
    "count2.legend(loc='center left', bbox_to_anchor=(1, 0.8))\n",
    "p.tight_layout()"
   ]
  },
  {
   "cell_type": "markdown",
   "id": "ab53e8c6",
   "metadata": {},
   "source": [
    "### English seems to be the strongest evidence that language and conversion are dependent."
   ]
  },
  {
   "cell_type": "markdown",
   "id": "ec79d305",
   "metadata": {},
   "source": [
    "## Step 1: Define the null and alternate hypotheses\n",
    "    The null hypothesis is that the rate of conversion and language preference are independent.\n",
    "    \n",
    "    The alternative hypothesis is that the rate of conversion and language preference are dependent."
   ]
  },
  {
   "cell_type": "markdown",
   "id": "fb5cc4ce",
   "metadata": {},
   "source": [
    "### Assumptions:\n",
    "1) Categorical Variables  \n",
    "*Both converted and language are categorical.*\n",
    "\n",
    "2) Number of sample observations in each level of the variable is >=5  (all counts in rows/cols is >=5)  \n",
    "*We will get to that.*\n",
    "\n",
    "3) Random Sampling  \n",
    "*Assumed.*\n",
    " \n",
    "\n",
    "# _Null_\n",
    "# H<sub>0</sub> : The row and column variables are independent.\n",
    "# _Alt_\n",
    "# H<sub>a</sub> : The row and column variables are dependent."
   ]
  },
  {
   "cell_type": "markdown",
   "id": "660564ed",
   "metadata": {},
   "source": [
    "## Step 2: Select Appropriate test"
   ]
  },
  {
   "cell_type": "markdown",
   "id": "ea8a25ca",
   "metadata": {},
   "source": [
    "chi2_contingency"
   ]
  },
  {
   "cell_type": "markdown",
   "id": "ff54777d",
   "metadata": {},
   "source": [
    "## Step 3: Decide the significance level"
   ]
  },
  {
   "cell_type": "markdown",
   "id": "3e0d7d1f",
   "metadata": {},
   "source": [
    "0.05 as always."
   ]
  },
  {
   "cell_type": "markdown",
   "id": "abf7920e",
   "metadata": {},
   "source": [
    "## Step 4: Collect and prepare data"
   ]
  },
  {
   "cell_type": "code",
   "execution_count": 45,
   "id": "6b6ddd1c",
   "metadata": {},
   "outputs": [
    {
     "data": {
      "text/html": [
       "<div>\n",
       "<style scoped>\n",
       "    .dataframe tbody tr th:only-of-type {\n",
       "        vertical-align: middle;\n",
       "    }\n",
       "\n",
       "    .dataframe tbody tr th {\n",
       "        vertical-align: top;\n",
       "    }\n",
       "\n",
       "    .dataframe thead tr th {\n",
       "        text-align: left;\n",
       "    }\n",
       "\n",
       "    .dataframe thead tr:last-of-type th {\n",
       "        text-align: right;\n",
       "    }\n",
       "</style>\n",
       "<table border=\"1\" class=\"dataframe\">\n",
       "  <thead>\n",
       "    <tr>\n",
       "      <th></th>\n",
       "      <th colspan=\"2\" halign=\"left\">count</th>\n",
       "    </tr>\n",
       "    <tr>\n",
       "      <th>converted</th>\n",
       "      <th>no</th>\n",
       "      <th>yes</th>\n",
       "    </tr>\n",
       "    <tr>\n",
       "      <th>language</th>\n",
       "      <th></th>\n",
       "      <th></th>\n",
       "    </tr>\n",
       "  </thead>\n",
       "  <tbody>\n",
       "    <tr>\n",
       "      <th>English</th>\n",
       "      <td>11</td>\n",
       "      <td>21</td>\n",
       "    </tr>\n",
       "    <tr>\n",
       "      <th>French</th>\n",
       "      <td>19</td>\n",
       "      <td>15</td>\n",
       "    </tr>\n",
       "    <tr>\n",
       "      <th>Spanish</th>\n",
       "      <td>16</td>\n",
       "      <td>18</td>\n",
       "    </tr>\n",
       "  </tbody>\n",
       "</table>\n",
       "</div>"
      ],
      "text/plain": [
       "          count    \n",
       "converted    no yes\n",
       "language           \n",
       "English      11  21\n",
       "French       19  15\n",
       "Spanish      16  18"
      ]
     },
     "execution_count": 45,
     "metadata": {},
     "output_type": "execute_result"
    }
   ],
   "source": [
    "AB_Con_Lan"
   ]
  },
  {
   "cell_type": "markdown",
   "id": "6518f399",
   "metadata": {},
   "source": [
    "### Since every count is >= 5, we can use chi2_contingency. The dataframe is a little messy in format so I will clean it up before putting it through the equation."
   ]
  },
  {
   "cell_type": "code",
   "execution_count": 46,
   "id": "04a62bfb",
   "metadata": {},
   "outputs": [
    {
     "data": {
      "text/html": [
       "<div>\n",
       "<style scoped>\n",
       "    .dataframe tbody tr th:only-of-type {\n",
       "        vertical-align: middle;\n",
       "    }\n",
       "\n",
       "    .dataframe tbody tr th {\n",
       "        vertical-align: top;\n",
       "    }\n",
       "\n",
       "    .dataframe thead th {\n",
       "        text-align: right;\n",
       "    }\n",
       "</style>\n",
       "<table border=\"1\" class=\"dataframe\">\n",
       "  <thead>\n",
       "    <tr style=\"text-align: right;\">\n",
       "      <th></th>\n",
       "      <th>no</th>\n",
       "      <th>yes</th>\n",
       "    </tr>\n",
       "  </thead>\n",
       "  <tbody>\n",
       "    <tr>\n",
       "      <th>0</th>\n",
       "      <td>11</td>\n",
       "      <td>21</td>\n",
       "    </tr>\n",
       "    <tr>\n",
       "      <th>1</th>\n",
       "      <td>19</td>\n",
       "      <td>15</td>\n",
       "    </tr>\n",
       "    <tr>\n",
       "      <th>2</th>\n",
       "      <td>16</td>\n",
       "      <td>18</td>\n",
       "    </tr>\n",
       "  </tbody>\n",
       "</table>\n",
       "</div>"
      ],
      "text/plain": [
       "   no  yes\n",
       "0  11   21\n",
       "1  19   15\n",
       "2  16   18"
      ]
     },
     "execution_count": 46,
     "metadata": {},
     "output_type": "execute_result"
    }
   ],
   "source": [
    "AB_Con_Lan_Clean=pd.DataFrame(pd.concat([AB_Con_Lan['count']['no'],AB_Con_Lan['count']['yes']],axis=1,sort=False)).reset_index().drop('language',axis=1)\n",
    "AB_Con_Lan_Clean"
   ]
  },
  {
   "cell_type": "markdown",
   "id": "d81d9e62",
   "metadata": {},
   "source": [
    "## Step 5: Calculate the p-value"
   ]
  },
  {
   "cell_type": "code",
   "execution_count": 47,
   "id": "23e10abf",
   "metadata": {},
   "outputs": [
    {
     "data": {
      "text/plain": [
       "0.2129888748754345"
      ]
     },
     "execution_count": 47,
     "metadata": {},
     "output_type": "execute_result"
    }
   ],
   "source": [
    "from scipy.stats import chi2_contingency as chi2con\n",
    "\n",
    "chi,p_value,dof,expected=chi2con(AB_Con_Lan_Clean)\n",
    "p_value"
   ]
  },
  {
   "cell_type": "markdown",
   "id": "effbc2e1",
   "metadata": {},
   "source": [
    "## Step 6: Compare the p-value with $\\alpha$"
   ]
  },
  {
   "cell_type": "code",
   "execution_count": 48,
   "id": "6e7268c7",
   "metadata": {},
   "outputs": [
    {
     "data": {
      "text/plain": [
       "False"
      ]
     },
     "execution_count": 48,
     "metadata": {},
     "output_type": "execute_result"
    }
   ],
   "source": [
    "p_value<0.05"
   ]
  },
  {
   "cell_type": "markdown",
   "id": "00d33fa5",
   "metadata": {},
   "source": [
    "## Step 7:  Draw inference"
   ]
  },
  {
   "cell_type": "markdown",
   "id": "0f592e5f",
   "metadata": {},
   "source": [
    "# The p-value is well above the level of significance. We fail to reject the null hypothesis. Therefore, languages and conversions are independent. \n",
    "# In other words, the conversion rate of the population to the new layout is independent of the preferred language of the user.\n",
    "---\n",
    "---\n",
    "---\n"
   ]
  },
  {
   "cell_type": "markdown",
   "id": "8d585a90",
   "metadata": {
    "id": "8d585a90"
   },
   "source": [
    "# 5. Is the time spent on the new page the same for different language users? (10 Marks)\n",
    "    AKA ANOVA All the mean_times of the languages for NEW LAYOUT ONLY!"
   ]
  },
  {
   "cell_type": "code",
   "execution_count": 49,
   "id": "b422f395",
   "metadata": {
    "id": "b422f395"
   },
   "outputs": [
    {
     "data": {
      "text/html": [
       "<div>\n",
       "<style scoped>\n",
       "    .dataframe tbody tr th:only-of-type {\n",
       "        vertical-align: middle;\n",
       "    }\n",
       "\n",
       "    .dataframe tbody tr th {\n",
       "        vertical-align: top;\n",
       "    }\n",
       "\n",
       "    .dataframe thead th {\n",
       "        text-align: right;\n",
       "    }\n",
       "</style>\n",
       "<table border=\"1\" class=\"dataframe\">\n",
       "  <thead>\n",
       "    <tr style=\"text-align: right;\">\n",
       "      <th></th>\n",
       "      <th>count</th>\n",
       "      <th>mean</th>\n",
       "      <th>std</th>\n",
       "      <th>min</th>\n",
       "      <th>25%</th>\n",
       "      <th>50%</th>\n",
       "      <th>75%</th>\n",
       "      <th>max</th>\n",
       "    </tr>\n",
       "    <tr>\n",
       "      <th>language_preferred</th>\n",
       "      <th></th>\n",
       "      <th></th>\n",
       "      <th></th>\n",
       "      <th></th>\n",
       "      <th></th>\n",
       "      <th></th>\n",
       "      <th></th>\n",
       "      <th></th>\n",
       "    </tr>\n",
       "  </thead>\n",
       "  <tbody>\n",
       "    <tr>\n",
       "      <th>English</th>\n",
       "      <td>16.0</td>\n",
       "      <td>6.663750</td>\n",
       "      <td>1.984150</td>\n",
       "      <td>3.65</td>\n",
       "      <td>5.3275</td>\n",
       "      <td>6.865</td>\n",
       "      <td>7.7125</td>\n",
       "      <td>10.50</td>\n",
       "    </tr>\n",
       "    <tr>\n",
       "      <th>French</th>\n",
       "      <td>17.0</td>\n",
       "      <td>6.196471</td>\n",
       "      <td>1.933394</td>\n",
       "      <td>3.30</td>\n",
       "      <td>5.2500</td>\n",
       "      <td>5.420</td>\n",
       "      <td>7.2700</td>\n",
       "      <td>10.71</td>\n",
       "    </tr>\n",
       "    <tr>\n",
       "      <th>Spanish</th>\n",
       "      <td>17.0</td>\n",
       "      <td>5.835294</td>\n",
       "      <td>1.525656</td>\n",
       "      <td>1.65</td>\n",
       "      <td>5.1500</td>\n",
       "      <td>6.200</td>\n",
       "      <td>6.7000</td>\n",
       "      <td>8.08</td>\n",
       "    </tr>\n",
       "  </tbody>\n",
       "</table>\n",
       "</div>"
      ],
      "text/plain": [
       "                    count      mean       std   min     25%    50%     75%  \\\n",
       "language_preferred                                                           \n",
       "English              16.0  6.663750  1.984150  3.65  5.3275  6.865  7.7125   \n",
       "French               17.0  6.196471  1.933394  3.30  5.2500  5.420  7.2700   \n",
       "Spanish              17.0  5.835294  1.525656  1.65  5.1500  6.200  6.7000   \n",
       "\n",
       "                      max  \n",
       "language_preferred         \n",
       "English             10.50  \n",
       "French              10.71  \n",
       "Spanish              8.08  "
      ]
     },
     "execution_count": 49,
     "metadata": {},
     "output_type": "execute_result"
    }
   ],
   "source": [
    "AB_ANOVA"
   ]
  },
  {
   "cell_type": "markdown",
   "id": "6aa306c1",
   "metadata": {},
   "source": [
    "## Perform Visual Analysis"
   ]
  },
  {
   "cell_type": "code",
   "execution_count": 50,
   "id": "312cafac",
   "metadata": {},
   "outputs": [
    {
     "data": {
      "image/png": "[encoded data removed]",
      "text/plain": [
       "<Figure size 1008x576 with 2 Axes>"
      ]
     },
     "metadata": {
      "needs_background": "light"
     },
     "output_type": "display_data"
    }
   ],
   "source": [
    "AB_treat=AB[AB['group_page']=='treatment_new']\n",
    "\n",
    "p2,(box,strip)=plt.subplots(\n",
    "    nrows=2,\n",
    "    sharex=True,\n",
    "    figsize=(14,8)\n",
    "    )\n",
    "\n",
    "sns.boxplot(data=AB_treat,x='time_spent_on_the_page',y='language_preferred',ax=box,showmeans=True,palette='flare')\n",
    "\n",
    "\n",
    "sns.stripplot(data=AB_treat,y='language_preferred',x='time_spent_on_the_page',ax=strip,palette='flare');\n",
    "\n",
    "strip.axvline(\n",
    "    AB_treat[AB_treat['language_preferred']=='English']['time_spent_on_the_page'].mean(), color=\"orange\", linestyle=\"-\",\n",
    "    label='EnglishMean'\n",
    ")\n",
    "strip.axvline(\n",
    "    AB_treat[AB_treat['language_preferred']=='French']['time_spent_on_the_page'].mean(), color=\"red\", linestyle=\"-\",\n",
    "    label='FrenchMean'\n",
    ")\n",
    "strip.axvline(\n",
    "    AB_treat[AB_treat['language_preferred']=='Spanish']['time_spent_on_the_page'].mean(), color=\"magenta\", linestyle=\"-\",\n",
    "    label='SpanishMean'\n",
    ")\n",
    "\n",
    "strip.legend(loc='center left', bbox_to_anchor=(1, 0.75));"
   ]
  },
  {
   "cell_type": "markdown",
   "id": "99eab856",
   "metadata": {},
   "source": [
    "### The mean of the preferred language of English is quite a bit further out from the others, as is its median. This may indicate that it is outside the between-group variance."
   ]
  },
  {
   "cell_type": "markdown",
   "id": "3c98ff41",
   "metadata": {},
   "source": [
    "## Step 1: Define the null and alternate hypotheses\n",
    "    The null hypothesis is all 3 language population mean-times are equal.\n",
    "    \n",
    "    The alternative hypothesis is at least 1 (population) mean-time is not equal.\n",
    "    \n",
    "### Assumptions: \n",
    "1) The populations are Normally Distributed  \n",
    "*Will test with Shapiro-Wilk.*\n",
    "\n",
    "2) Samples are independent simple random samples  \n",
    "*Yep.*\n",
    "\n",
    "3) Population variances are EQUAL  \n",
    "*Will test with Levene.*\n",
    "\n",
    "# _Null_\n",
    "# H<sub>0</sub> : μ<sub>1</sub> = μ<sub>2</sub> = μ<sub>3</sub>\n",
    "# _Alt_\n",
    "# H<sub>a</sub> : At least ONE population mean μ<sub>j</sub> is inequal"
   ]
  },
  {
   "cell_type": "markdown",
   "id": "00498665",
   "metadata": {},
   "source": [
    "## Step 2: Select Appropriate test\n",
    "    shapiro,\n",
    "    levene,\n",
    "    f_oneway"
   ]
  },
  {
   "cell_type": "markdown",
   "id": "0442381c",
   "metadata": {},
   "source": [
    "## Step 3: Decide the significance level"
   ]
  },
  {
   "cell_type": "markdown",
   "id": "9deb1b93",
   "metadata": {},
   "source": [
    "0.05, i think!"
   ]
  },
  {
   "cell_type": "markdown",
   "id": "98cfdd37",
   "metadata": {},
   "source": [
    "## Step 4: Collect and prepare data\n",
    "### First, the shapiro test for normality.\n",
    "# _Null_\n",
    "# H<sub>0</sub> : Time_spent is Normally Distributed\n",
    "# _Alt_\n",
    "# H<sub>a</sub> : Time_spent is NOT Normally Distributed"
   ]
  },
  {
   "cell_type": "code",
   "execution_count": 51,
   "id": "e7a41b78",
   "metadata": {},
   "outputs": [
    {
     "data": {
      "text/plain": [
       "0.8040016293525696"
      ]
     },
     "execution_count": 51,
     "metadata": {},
     "output_type": "execute_result"
    }
   ],
   "source": [
    "from scipy.stats import shapiro\n",
    "\n",
    "w,p_value=shapiro(AB_treat['time_spent_on_the_page'])\n",
    "p_value"
   ]
  },
  {
   "cell_type": "markdown",
   "id": "ee9cc88c",
   "metadata": {},
   "source": [
    "### Therefore, we fail to reject the null, and Time_spent is normally distributed.\n",
    "### Next, Levene for equality of variances.\n",
    "\n",
    "# _Null_\n",
    "# H<sub>0</sub> : All population variances are equal\n",
    "# _Alt_\n",
    "# H<sub>a</sub> : At least ONE population variance σ<sub>j</sub><sup>2</sup> is inequal"
   ]
  },
  {
   "cell_type": "code",
   "execution_count": 52,
   "id": "1d5a0189",
   "metadata": {},
   "outputs": [
    {
     "data": {
      "text/plain": [
       "LeveneResult(statistic=0.7736446756800186, pvalue=0.46711357711340173)"
      ]
     },
     "execution_count": 52,
     "metadata": {},
     "output_type": "execute_result"
    }
   ],
   "source": [
    "from scipy.stats import levene\n",
    "\n",
    "levene(AB_treat['time_spent_on_the_page'][AB_treat['language_preferred']=='English'],\n",
    "      AB_treat['time_spent_on_the_page'][AB_treat['language_preferred']=='Spanish'],\n",
    "      AB_treat['time_spent_on_the_page'][AB_treat['language_preferred']=='French'],\n",
    "      )"
   ]
  },
  {
   "cell_type": "markdown",
   "id": "50f645f2",
   "metadata": {},
   "source": [
    "### Therefore, we fail to reject the null, and all 3 preferred languages' time_spent variances are equal."
   ]
  },
  {
   "cell_type": "markdown",
   "id": "7ca0aaad",
   "metadata": {},
   "source": [
    "## Step 5: Calculate the p-value\n",
    "    Finally, we use f_oneway to test the original null hypothesis."
   ]
  },
  {
   "cell_type": "code",
   "execution_count": 53,
   "id": "0a4fe525",
   "metadata": {},
   "outputs": [
    {
     "data": {
      "text/plain": [
       "0.43204138694325955"
      ]
     },
     "execution_count": 53,
     "metadata": {},
     "output_type": "execute_result"
    }
   ],
   "source": [
    "from scipy.stats import f_oneway\n",
    "\n",
    "test_stat,p=f_oneway(AB_treat.loc[AB_treat['language_preferred']=='English']['time_spent_on_the_page'],\n",
    "        AB_treat.loc[AB_treat['language_preferred']=='Spanish']['time_spent_on_the_page'],\n",
    "        AB_treat.loc[AB_treat['language_preferred']=='French']['time_spent_on_the_page'],\n",
    "        )\n",
    "p"
   ]
  },
  {
   "cell_type": "markdown",
   "id": "b2407631",
   "metadata": {},
   "source": [
    "## Step 6: Compare the p-value with $\\alpha$"
   ]
  },
  {
   "cell_type": "code",
   "execution_count": 54,
   "id": "0db81077",
   "metadata": {},
   "outputs": [
    {
     "data": {
      "text/plain": [
       "False"
      ]
     },
     "execution_count": 54,
     "metadata": {},
     "output_type": "execute_result"
    }
   ],
   "source": [
    "p<0.05"
   ]
  },
  {
   "cell_type": "markdown",
   "id": "5cbb4ee2",
   "metadata": {},
   "source": [
    "## Step 7:  Draw inference"
   ]
  },
  {
   "cell_type": "markdown",
   "id": "4505119a",
   "metadata": {},
   "source": [
    "# Since we failed to reject the null, the mean time_spent_on_the_page is equal for every supported language, for the population."
   ]
  },
  {
   "cell_type": "markdown",
   "id": "3acbc947",
   "metadata": {
    "id": "3acbc947"
   },
   "source": [
    "---\n",
    "---\n",
    "---\n",
    "\n",
    "# Conclusion and Business Recommendations"
   ]
  },
  {
   "cell_type": "markdown",
   "id": "21fb1063",
   "metadata": {
    "id": "21fb1063"
   },
   "source": [
    "### The new layout seems to be widely liked. There aren't any major translation issues with the 3 supported languages, and those in the test group seemed to switch over with a greater rate than those in the control group. I would highly recommend officially implementing the new landing page, as it retains attention for much longer than the old one."
   ]
  }
 ],
 "metadata": {
  "colab": {
   "collapsed_sections": [],
   "name": "ENews_Express_Learner_Notebook[Full Code Version].ipynb",
   "provenance": []
  },
  "kernelspec": {
   "display_name": "Python 3 (ipykernel)",
   "language": "python",
   "name": "python3"
  },
  "language_info": {
   "codemirror_mode": {
    "name": "ipython",
    "version": 3
   },
   "file_extension": ".py",
   "mimetype": "text/x-python",
   "name": "python",
   "nbconvert_exporter": "python",
   "pygments_lexer": "ipython3",
   "version": "3.9.7"
  }
 },
 "nbformat": 4,
 "nbformat_minor": 5
}
